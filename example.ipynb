{
 "cells": [
  {
   "cell_type": "markdown",
   "metadata": {},
   "source": [
    "# Trabalho de Geração Termelétrica e Cogeração\n",
    "## 2023.3\n",
    "### 15 de Dezembro de 2023\n",
    "\n",
    "Componentes do grupo:\n",
    "- Felipe Bogaerts de Mattos\n",
    "- Igor Lopes Passi\n",
    "- Rafael Malta"
   ]
  },
  {
   "cell_type": "markdown",
   "metadata": {},
   "source": [
    "## Import modules\n"
   ]
  },
  {
   "cell_type": "code",
   "execution_count": 423,
   "metadata": {},
   "outputs": [],
   "source": [
    "import numpy as np\n",
    "import plotly.graph_objects as go\n",
    "from pyfluids import Fluid, FluidsList, Input\n",
    "\n",
    "from thermosys.processes import (\n",
    "    heat_to_temperature,\n",
    "    turbine_to_enthalpy,\n",
    "    turbine_to_pressure,\n",
    ")\n",
    "from thermosys.processes.gas import compress_to\n",
    "from thermosys.processes.vapor import condense_to_pressure, pump_to_pressure\n",
    "from thermosys.services.energy import energy_balance\n",
    "from thermosys.services.misc import print_states\n",
    "from thermosys.services.montecarlo import get_random_value\n",
    "from thermosys.services.units import bar_to_pascal, pascal_to_bar"
   ]
  },
  {
   "cell_type": "markdown",
   "metadata": {},
   "source": [
    "## Constants\n"
   ]
  },
  {
   "cell_type": "code",
   "execution_count": 424,
   "metadata": {},
   "outputs": [],
   "source": [
    "GAS_MASS_FLOW_PER_SYSTEM = 450  # kg/s\n",
    "NUMBER_OF_GAS_SYSTEMS = 2  # -\n",
    "\n",
    "GAS_INLET_PRESSURE = bar_to_pascal(1)  # Pa\n",
    "GAS_INLET_TEMPERATURE = 30  # C\n",
    "GAS_MASS_FLUX = 450  # kg/s\n",
    "GAS_COMPRESSOR_EFFICIENCY = 0.8  # -\n",
    "GAS_COMPRESSION_RATIO = 25  # -\n",
    "GAS_TURBINE_C_EFFICIENCY = 0.8  # -\n",
    "GAS_COMBUSTION_CHAMBER_1_TEMPERATURE = 1000  # C\n",
    "GAS_TURBINE_P_EFFICIENCY = 0.85  # -\n",
    "GAS_COMBUSTION_CHAMBER_2_TEMPERATURE = 710  # C\n",
    "\n",
    "VAPOR_DEAERATOR_PRESSURE = bar_to_pascal(5)  # Pa\n",
    "VAPOR_TURBINE_EFFICIENCY = 0.9  # -\n",
    "VAPOR_CONDENSER_PRESSURE = bar_to_pascal(0.1)  # Pa\n",
    "VAPOR_PUMP_EFFICIENCY = 0.9999  # -\n",
    "VAPOR_DEAERATOR_TEMPERATURE = 120  # C\n",
    "VAPOR_STATE_3_QUALITY_LOWER_THRESHOLD = 0.92  # -\n",
    "\n",
    "AMBIENT_PRESSURE = bar_to_pascal(1)  # Pa\n",
    "AMBIENT_TEMPERATURE = 30  # C\n",
    "\n",
    "RECOVERY_BOILER_DELTA_TSA = 25  # C\n",
    "RECOVERY_BOILER_DELTA_TP = 10  # C\n",
    "RECOVERY_BOILER_DELTA_TE = 10  # C\n",
    "\n",
    "OPTIMIZATION_ITERATION_COUNT = 1000  # -\n",
    "MAX_VAPOR_INLET_PRESSURE = bar_to_pascal(100)  # Pa"
   ]
  },
  {
   "cell_type": "markdown",
   "metadata": {},
   "source": [
    "## Brayton Gas Cycle\n"
   ]
  },
  {
   "cell_type": "code",
   "execution_count": 425,
   "metadata": {},
   "outputs": [
    {
     "name": "stdout",
     "output_type": "stream",
     "text": [
      "BRAYTON CYCLE\n",
      "1 - Air: 1.00 bar, 30.00 C, 429.47 kJ/kg\n",
      "2 - Air: 25.00 bar, 573.80 C, 1001.22 kJ/kg\n",
      "3 - Air: 25.00 bar, 1000.00 C, 1492.34 kJ/kg\n",
      "4 - Air: 1.72 bar, 501.44 C, 920.59 kJ/kg\n",
      "5 - Air: 1.72 bar, 710.00 C, 1153.36 kJ/kg\n",
      "6 - Air: 1.00 bar, 602.06 C, 1031.68 kJ/kg\n",
      "\n",
      "\n",
      "Gas turbine specific work: 693.43 kJ/kg\n",
      "Gas compressor specific work: 571.75 kJ/kg\n",
      "Gas net specific work: 121.68 kJ/kg\n",
      "Gas specific heat in: 723.89 kJ/kg\n",
      "Gas thermal efficiency: 16.81 %\n",
      "Gas BWR: 82.45 %\n",
      "\n",
      "\n"
     ]
    }
   ],
   "source": [
    "state_1 = Fluid(FluidsList.Air).with_state(\n",
    "    Input.pressure(GAS_INLET_PRESSURE),\n",
    "    Input.temperature(GAS_INLET_TEMPERATURE),\n",
    ")\n",
    "\n",
    "state_2 = compress_to(\n",
    "    inlet_state=state_1,\n",
    "    efficiency=GAS_COMPRESSOR_EFFICIENCY,\n",
    "    compression_ratio=GAS_COMPRESSION_RATIO,\n",
    ")\n",
    "\n",
    "state_3 = heat_to_temperature(\n",
    "    inlet_state=state_2,\n",
    "    outlet_temperature=GAS_COMBUSTION_CHAMBER_1_TEMPERATURE,\n",
    ")\n",
    "\n",
    "energy_balance_compressor = energy_balance(state_1, state_2)\n",
    "state_4 = turbine_to_enthalpy(\n",
    "    inlet_state=state_3,\n",
    "    efficiency=GAS_TURBINE_C_EFFICIENCY,\n",
    "    energy_balance=energy_balance_compressor,\n",
    ")\n",
    "\n",
    "state_5 = heat_to_temperature(\n",
    "    inlet_state=state_4,\n",
    "    outlet_temperature=GAS_COMBUSTION_CHAMBER_2_TEMPERATURE,\n",
    ")\n",
    "\n",
    "state_6 = turbine_to_pressure(\n",
    "    inlet_state=state_5,\n",
    "    efficiency=GAS_TURBINE_P_EFFICIENCY,\n",
    "    outlet_pressure=GAS_INLET_PRESSURE,\n",
    ")\n",
    "\n",
    "gas_states = [state_1, state_2, state_3, state_4, state_5, state_6]\n",
    "\n",
    "gas_turbine_specific_work = energy_balance(gas_states[3], gas_states[2]) + energy_balance(gas_states[5], gas_states[4])\n",
    "gas_compressor_specific_work = energy_balance(gas_states[0], gas_states[1])\n",
    "gas_net_specific_work = (gas_turbine_specific_work - gas_compressor_specific_work)\n",
    "gas_specific_heat_in = energy_balance(gas_states[1], gas_states[2]) + energy_balance(gas_states[3], gas_states[4])\n",
    "\n",
    "gas_efficiency = gas_net_specific_work / gas_specific_heat_in\n",
    "gas_bwr = gas_compressor_specific_work / gas_turbine_specific_work\n",
    "\n",
    "print(\"BRAYTON CYCLE\")\n",
    "print_states(gas_states)\n",
    "\n",
    "\n",
    "print(\"\\n\")\n",
    "\n",
    "print(f\"Gas turbine specific work: {gas_turbine_specific_work * 1e-3:.2f} kJ/kg\")\n",
    "print(f\"Gas compressor specific work: {gas_compressor_specific_work * 1e-3:.2f} kJ/kg\")\n",
    "print(f\"Gas net specific work: {gas_net_specific_work * 1e-3:.2f} kJ/kg\")\n",
    "print(f\"Gas specific heat in: {gas_specific_heat_in * 1e-3:.2f} kJ/kg\")\n",
    "print(f\"Gas thermal efficiency: {gas_efficiency * 100:.2f} %\")\n",
    "print(f\"Gas BWR: {gas_bwr * 100:.2f} %\")\n",
    "\n",
    "print(\"\\n\")"
   ]
  },
  {
   "cell_type": "markdown",
   "metadata": {},
   "source": [
    "## Defining Rankine Cycle and Recovery Boiler simulation function"
   ]
  },
  {
   "cell_type": "code",
   "execution_count": 426,
   "metadata": {},
   "outputs": [],
   "source": [
    "def vapor_and_recovery_boiler_simulation(inlet_pressure: float) -> list:\n",
    "    # Solving the Rankine Cycle:\n",
    "    state_7 = Fluid(FluidsList.Water).with_state(\n",
    "        Input.pressure(inlet_pressure),\n",
    "        Input.temperature(VAPOR_DEAERATOR_TEMPERATURE),\n",
    "    )\n",
    "\n",
    "    state_1 = heat_to_temperature(\n",
    "        inlet_state=state_7,\n",
    "        outlet_temperature=gas_states[-1].temperature\n",
    "        - RECOVERY_BOILER_DELTA_TSA,\n",
    "    )\n",
    "\n",
    "    state_2 = turbine_to_pressure(\n",
    "        inlet_state=state_1,\n",
    "        efficiency=VAPOR_TURBINE_EFFICIENCY,\n",
    "        outlet_pressure=VAPOR_DEAERATOR_PRESSURE,\n",
    "    )\n",
    "\n",
    "    state_3 = turbine_to_pressure(\n",
    "        inlet_state=state_2,\n",
    "        efficiency=VAPOR_TURBINE_EFFICIENCY,\n",
    "        outlet_pressure=VAPOR_CONDENSER_PRESSURE,\n",
    "    )\n",
    "\n",
    "    state_4 = condense_to_pressure(\n",
    "        inlet_state=state_3,\n",
    "    )\n",
    "\n",
    "    state_5 = pump_to_pressure(\n",
    "        inlet_state=state_4,\n",
    "        efficiency=VAPOR_PUMP_EFFICIENCY,\n",
    "        outlet_pressure=VAPOR_DEAERATOR_PRESSURE,\n",
    "    )\n",
    "\n",
    "    state_6 = state_5.with_state(\n",
    "        Input.pressure(state_5.pressure),\n",
    "        Input.entropy(state_7.entropy),\n",
    "    )\n",
    "\n",
    "    vapor_states = [\n",
    "        state_1,\n",
    "        state_2,\n",
    "        state_3,\n",
    "        state_4,\n",
    "        state_5,\n",
    "        state_6,\n",
    "        state_7,\n",
    "    ]\n",
    "\n",
    "    y_mass_flow = energy_balance(state_6, state_5) / energy_balance(\n",
    "        state_2, state_5\n",
    "    )\n",
    "\n",
    "    vapor_turbine_specific_work = energy_balance(\n",
    "        vapor_states[1], vapor_states[0]\n",
    "    ) + (1 - y_mass_flow) * energy_balance(vapor_states[2], vapor_states[1])\n",
    "    vapor_pump_specific_work = (1 - y_mass_flow) * energy_balance(\n",
    "        vapor_states[3], vapor_states[4]\n",
    "    ) + energy_balance(vapor_states[5], vapor_states[6])\n",
    "    vapor_net_specific_work = (\n",
    "        vapor_turbine_specific_work - vapor_pump_specific_work\n",
    "    )\n",
    "    vapor_specific_heat_in = energy_balance(vapor_states[-1], vapor_states[0])\n",
    "\n",
    "    vapor_efficiency = vapor_net_specific_work / vapor_specific_heat_in\n",
    "\n",
    "    # Solving the Recovery Boiler:\n",
    "    gas_mass_flow = GAS_MASS_FLOW_PER_SYSTEM * NUMBER_OF_GAS_SYSTEMS\n",
    "\n",
    "    state_8_evaporator = Fluid(FluidsList.Water).two_phase_point_at_pressure(\n",
    "        pressure=vapor_states[0].pressure,\n",
    "        quality=0,\n",
    "    )\n",
    "\n",
    "    state_12 = Fluid(FluidsList.Water).two_phase_point_at_pressure(\n",
    "        pressure=vapor_states[0].pressure,\n",
    "        quality=100,\n",
    "    )\n",
    "\n",
    "    temperature_a = state_8_evaporator.temperature + RECOVERY_BOILER_DELTA_TP\n",
    "    state_a = Fluid(FluidsList.Air).with_state(\n",
    "        Input.pressure(gas_states[-1].pressure),\n",
    "        Input.temperature(temperature_a),\n",
    "    )\n",
    "\n",
    "    temperature_8_economizer = (\n",
    "        state_8_evaporator.temperature - RECOVERY_BOILER_DELTA_TE\n",
    "    )\n",
    "    state_8_economizer = Fluid(FluidsList.Water).with_state(\n",
    "        Input.pressure(vapor_states[0].pressure),\n",
    "        Input.temperature(temperature_8_economizer),\n",
    "    )\n",
    "\n",
    "    heat_evaporator_sup = (\n",
    "        energy_balance(state_a, gas_states[-1]) * gas_mass_flow\n",
    "    )\n",
    "\n",
    "    mass_flow_evaporator = heat_evaporator_sup / (\n",
    "        energy_balance(vapor_states[0], state_8_evaporator)\n",
    "    )\n",
    "\n",
    "    enthalpy_b = gas_states[\n",
    "        -1\n",
    "    ].enthalpy - mass_flow_evaporator / gas_mass_flow * (\n",
    "        energy_balance(state_8_economizer, vapor_states[-1])\n",
    "    )\n",
    "\n",
    "    state_b = state_a.with_state(\n",
    "        Input.enthalpy(enthalpy_b), Input.pressure(gas_states[-1].pressure)\n",
    "    )\n",
    "\n",
    "    outlet_gas_enthalpy = (\n",
    "        state_a.enthalpy\n",
    "        - mass_flow_evaporator\n",
    "        / gas_mass_flow\n",
    "        * (energy_balance(state_8_economizer, vapor_states[-1]))\n",
    "    )\n",
    "\n",
    "    outlet_gas_state = state_b.with_state(\n",
    "        Input.pressure(gas_states[-1].pressure),\n",
    "        Input.temperature(state_b.temperature),\n",
    "    )\n",
    "\n",
    "    state_ambient = Fluid(FluidsList.Air).with_state(\n",
    "        Input.pressure(AMBIENT_PRESSURE),\n",
    "        Input.temperature(AMBIENT_TEMPERATURE),\n",
    "    )\n",
    "\n",
    "    enthalpy_7_gas = state_a.enthalpy\n",
    "\n",
    "    gas_heat_superheater = mass_flow_evaporator * energy_balance(\n",
    "        state_8_evaporator, vapor_states[-1]\n",
    "    )\n",
    "    gas_heat_evaporator = mass_flow_evaporator * energy_balance(\n",
    "        state_b, state_a\n",
    "    )\n",
    "    gas_heat_economizer = mass_flow_evaporator * energy_balance(\n",
    "        state_a, outlet_gas_state\n",
    "    )\n",
    "\n",
    "    vapor_heat_evaporator = mass_flow_evaporator * energy_balance(\n",
    "        state_12, state_8_evaporator\n",
    "    )\n",
    "\n",
    "    boiler_efficiency = energy_balance(\n",
    "        gas_states[-1], outlet_gas_state\n",
    "    ) / energy_balance(gas_states[-1], state_ambient)\n",
    "\n",
    "    return vapor_efficiency, boiler_efficiency, vapor_states"
   ]
  },
  {
   "cell_type": "markdown",
   "metadata": {},
   "source": [
    "# Optimization of the Rankine Vapor Cycle and Recovery Boiler\n"
   ]
  },
  {
   "cell_type": "code",
   "execution_count": 427,
   "metadata": {},
   "outputs": [],
   "source": [
    "pressures = np.array([])\n",
    "system_efficiencies = np.array([])\n",
    "\n",
    "vapor_states_list = []\n",
    "gas_states_in_boiler_list = []\n",
    "boiler_states_list = []\n",
    "\n",
    "for _ in range(OPTIMIZATION_ITERATION_COUNT):\n",
    "    # for _ in range(1):\n",
    "    # Optimization variables:\n",
    "    inlet_pressure = get_random_value(\n",
    "        min_value=VAPOR_DEAERATOR_PRESSURE, max_value=MAX_VAPOR_INLET_PRESSURE\n",
    "    )\n",
    "\n",
    "    # inlet_pressure = bar_to_pascal(10)\n",
    "\n",
    "    # Solving the Rankine Cycle:\n",
    "    state_7 = Fluid(FluidsList.Water).with_state(\n",
    "        Input.pressure(inlet_pressure),\n",
    "        Input.temperature(VAPOR_DEAERATOR_TEMPERATURE),\n",
    "    )\n",
    "\n",
    "    state_1 = heat_to_temperature(\n",
    "        inlet_state=state_7,\n",
    "        outlet_temperature=gas_states[-1].temperature\n",
    "        - RECOVERY_BOILER_DELTA_TSA,\n",
    "    )\n",
    "\n",
    "    state_2 = turbine_to_pressure(\n",
    "        inlet_state=state_1,\n",
    "        efficiency=VAPOR_TURBINE_EFFICIENCY,\n",
    "        outlet_pressure=VAPOR_DEAERATOR_PRESSURE,\n",
    "    )\n",
    "\n",
    "    state_3 = turbine_to_pressure(\n",
    "        inlet_state=state_2,\n",
    "        efficiency=VAPOR_TURBINE_EFFICIENCY,\n",
    "        outlet_pressure=VAPOR_CONDENSER_PRESSURE,\n",
    "    )\n",
    "\n",
    "    state_4 = condense_to_pressure(\n",
    "        inlet_state=state_3,\n",
    "    )\n",
    "\n",
    "    state_5 = pump_to_pressure(\n",
    "        inlet_state=state_4,\n",
    "        efficiency=VAPOR_PUMP_EFFICIENCY,\n",
    "        outlet_pressure=VAPOR_DEAERATOR_PRESSURE,\n",
    "    )\n",
    "\n",
    "    state_6 = state_5.with_state(\n",
    "        Input.pressure(state_5.pressure),\n",
    "        Input.entropy(state_7.entropy),\n",
    "    )\n",
    "\n",
    "    vapor_states = [\n",
    "        state_1,\n",
    "        state_2,\n",
    "        state_3,\n",
    "        state_4,\n",
    "        state_5,\n",
    "        state_6,\n",
    "        state_7,\n",
    "    ]\n",
    "\n",
    "    y_mass_flow = energy_balance(state_6, state_5) / energy_balance(\n",
    "        state_2, state_5\n",
    "    )\n",
    "\n",
    "    vapor_turbine_specific_work = energy_balance(\n",
    "        vapor_states[1], vapor_states[0]\n",
    "    ) + (1 - y_mass_flow) * energy_balance(vapor_states[2], vapor_states[1])\n",
    "    vapor_pump_specific_work = (1 - y_mass_flow) * energy_balance(\n",
    "        vapor_states[3], vapor_states[4]\n",
    "    ) + energy_balance(vapor_states[5], vapor_states[6])\n",
    "    vapor_net_specific_work = (\n",
    "        vapor_turbine_specific_work - vapor_pump_specific_work\n",
    "    )\n",
    "    vapor_specific_heat_in = energy_balance(vapor_states[-1], vapor_states[0])\n",
    "\n",
    "    vapor_efficiency = vapor_net_specific_work / vapor_specific_heat_in\n",
    "\n",
    "    # Solving the Recovery Boiler:\n",
    "    gas_mass_flow = GAS_MASS_FLOW_PER_SYSTEM * NUMBER_OF_GAS_SYSTEMS\n",
    "\n",
    "    state_8_evaporator = Fluid(FluidsList.Water).two_phase_point_at_pressure(\n",
    "        pressure=vapor_states[0].pressure,\n",
    "        quality=0,\n",
    "    )\n",
    "\n",
    "    state_12 = Fluid(FluidsList.Water).two_phase_point_at_pressure(\n",
    "        pressure=vapor_states[0].pressure,\n",
    "        quality=100,\n",
    "    )\n",
    "\n",
    "    temperature_a = state_8_evaporator.temperature + RECOVERY_BOILER_DELTA_TP\n",
    "    state_a = Fluid(FluidsList.Air).with_state(\n",
    "        Input.pressure(gas_states[-1].pressure),\n",
    "        Input.temperature(temperature_a),\n",
    "    )\n",
    "\n",
    "    temperature_8_economizer = (\n",
    "        state_8_evaporator.temperature - RECOVERY_BOILER_DELTA_TE\n",
    "    )\n",
    "    state_8_economizer = Fluid(FluidsList.Water).with_state(\n",
    "        Input.pressure(vapor_states[0].pressure),\n",
    "        Input.temperature(temperature_8_economizer),\n",
    "    )\n",
    "\n",
    "    heat_evaporator_sup = (\n",
    "        energy_balance(state_a, gas_states[-1]) * gas_mass_flow\n",
    "    )\n",
    "\n",
    "    mass_flow_evaporator = heat_evaporator_sup / (\n",
    "        energy_balance(vapor_states[0], state_8_evaporator)\n",
    "    )\n",
    "\n",
    "    enthalpy_b = gas_states[\n",
    "        -1\n",
    "    ].enthalpy - mass_flow_evaporator / gas_mass_flow * (\n",
    "        energy_balance(state_8_economizer, vapor_states[-1])\n",
    "    )\n",
    "\n",
    "    state_b = state_a.with_state(\n",
    "        Input.enthalpy(enthalpy_b), Input.pressure(gas_states[-1].pressure)\n",
    "    )\n",
    "\n",
    "    outlet_gas_enthalpy = (\n",
    "        state_a.enthalpy\n",
    "        - mass_flow_evaporator\n",
    "        / gas_mass_flow\n",
    "        * (energy_balance(state_8_economizer, vapor_states[-1]))\n",
    "    )\n",
    "\n",
    "    outlet_gas_state = state_b.with_state(\n",
    "        Input.pressure(gas_states[-1].pressure),\n",
    "        Input.temperature(state_b.temperature),\n",
    "    )\n",
    "\n",
    "    state_ambient = Fluid(FluidsList.Air).with_state(\n",
    "        Input.pressure(AMBIENT_PRESSURE),\n",
    "        Input.temperature(AMBIENT_TEMPERATURE),\n",
    "    )\n",
    "\n",
    "    enthalpy_7_gas = state_a.enthalpy\n",
    "\n",
    "    gas_states_in_boiler = [\n",
    "        state_a,\n",
    "        state_b,\n",
    "        state_7,\n",
    "    ]\n",
    "\n",
    "    boiler_states = [\n",
    "        state_8_economizer,\n",
    "        state_8_evaporator,\n",
    "        state_12,\n",
    "    ]\n",
    "\n",
    "    gas_heat_superheater = mass_flow_evaporator * energy_balance(\n",
    "        state_8_evaporator, vapor_states[-1]\n",
    "    )\n",
    "    gas_heat_evaporator = mass_flow_evaporator * energy_balance(\n",
    "        state_b, state_a\n",
    "    )\n",
    "    gas_heat_economizer = mass_flow_evaporator * energy_balance(\n",
    "        state_a, outlet_gas_state\n",
    "    )\n",
    "\n",
    "    vapor_heat_evaporator = mass_flow_evaporator * energy_balance(\n",
    "        state_12, state_8_evaporator\n",
    "    )\n",
    "\n",
    "    boiler_efficiency = energy_balance(\n",
    "        gas_states[-1], outlet_gas_state\n",
    "    ) / energy_balance(gas_states[-1], state_ambient)\n",
    "\n",
    "    pressures = np.append(pressures, inlet_pressure)\n",
    "    vapor_states_list.append(vapor_states)\n",
    "    gas_states_in_boiler_list.append(gas_states_in_boiler)\n",
    "    boiler_states_list.append(boiler_states)\n",
    "    system_efficiencies = np.append(\n",
    "        system_efficiencies,\n",
    "        gas_efficiency\n",
    "        + vapor_efficiency * boiler_efficiency * (1 - gas_efficiency),\n",
    "    )"
   ]
  },
  {
   "cell_type": "markdown",
   "metadata": {},
   "source": [
    "## Processing the simulation data\n",
    "\n",
    "After running the simulation, the pressure and efficiency arrays are filtered so that the quality of the vapor state 3 is always higher than 92% - as specified in the requirements."
   ]
  },
  {
   "cell_type": "code",
   "execution_count": 428,
   "metadata": {},
   "outputs": [
    {
     "name": "stdout",
     "output_type": "stream",
     "text": [
      "Filtered 524 invalid states out of 1000.\n"
     ]
    }
   ],
   "source": [
    "valid_indices = np.array([], dtype=int)\n",
    "\n",
    "for i, states in enumerate(vapor_states_list):\n",
    "    state_3 = states[2]\n",
    "\n",
    "    if state_3.phase.name == \"TwoPhase\":\n",
    "        if state_3.quality >= VAPOR_STATE_3_QUALITY_LOWER_THRESHOLD * 100:\n",
    "            valid_indices = np.append(valid_indices, i)\n",
    "    elif state_3.phase.name == \"Gas\":\n",
    "        valid_indices = np.append(valid_indices, i)\n",
    "\n",
    "print(\n",
    "    f\"Filtered {len(vapor_states_list) - np.shape(valid_indices)[0]} invalid states out of {len(vapor_states_list)}.\"\n",
    ")\n",
    "\n",
    "# Use these indices to filter the pressures and system_efficiencies:\n",
    "pressures = pressures[valid_indices]\n",
    "system_efficiencies = system_efficiencies[valid_indices]\n",
    "\n",
    "vapor_states_list[:] = [vapor_states_list[i] for i in valid_indices]\n",
    "gas_states_in_boiler_list[:] = [gas_states_in_boiler_list[i] for i in valid_indices]\n",
    "boiler_states_list[:] = [boiler_states_list[i] for i in valid_indices]\n",
    "\n",
    "max_efficiency = np.max(system_efficiencies)\n",
    "max_efficiency_index = np.argmax(system_efficiencies)\n",
    "optimal_inlet_pressure = pressures[max_efficiency_index]\n",
    "optimal_vapor_states = vapor_states_list[max_efficiency_index]\n",
    "optimal_gas_states_in_boiler = gas_states_in_boiler_list[max_efficiency_index]\n",
    "optimal_boiler_states = boiler_states_list[max_efficiency_index]"
   ]
  },
  {
   "cell_type": "markdown",
   "metadata": {},
   "source": [
    "## Optimal Rankine Cycle and Boiler results"
   ]
  },
  {
   "cell_type": "code",
   "execution_count": 429,
   "metadata": {},
   "outputs": [
    {
     "name": "stdout",
     "output_type": "stream",
     "text": [
      "OPTIMAL RANKINE CYCLE\n",
      "1 - Water: 49.13 bar, 577.06 C, 3614.36 kJ/kg\n",
      "2 - Water: 5.00 bar, 266.98 C, 2996.25 kJ/kg\n",
      "3 - Water: 0.10 bar, 45.81 C, 2392.54 kJ/kg\n",
      "4 - Water: 0.10 bar, 45.81 C, 191.81 kJ/kg\n",
      "5 - Water: 5.00 bar, 45.82 C, 192.30 kJ/kg\n",
      "6 - Water: 5.00 bar, 119.63 C, 502.46 kJ/kg\n",
      "7 - Water: 49.13 bar, 120.00 C, 507.13 kJ/kg\n",
      "\n",
      "\n",
      "Y mass flow: 11.06 %\n",
      "Vapor turbine specific work: 1155.04 kJ/kg\n",
      "Vapor pump specific work: 310.60 kJ/kg\n",
      "Vapor net specific work: 844.44 kJ/kg\n",
      "Vapor specific heat in: 3107.22 kJ/kg\n",
      "Vapor thermal efficiency: 27.18 %\n",
      "\n",
      "BRAYTON CYCLE CONTINUATION\n",
      "a - Air: 1.00 bar, 272.85 C, 676.98 kJ/kg\n",
      "b - Air: 1.00 bar, 525.05 C, 946.42 kJ/kg\n",
      "7 - Water: 49.13 bar, 120.00 C, 507.13 kJ/kg\n",
      "\n",
      "RECOVERY BOILER\n",
      "8 econ - Water: 49.13 bar, 252.85 C, 1099.64 kJ/kg\n",
      "12 - Water: 49.13 bar, 262.85 C, 2794.91 kJ/kg\n",
      "8 evap - Water: 49.13 bar, 262.85 C, 1149.18 kJ/kg\n"
     ]
    }
   ],
   "source": [
    "optimal_vapor_state_1 = optimal_vapor_states[0]\n",
    "optimal_vapor_state_2 = optimal_vapor_states[1]\n",
    "optimal_vapor_state_3 = optimal_vapor_states[2]\n",
    "optimal_vapor_state_4 = optimal_vapor_states[3]\n",
    "optimal_vapor_state_5 = optimal_vapor_states[4]\n",
    "optimal_vapor_state_6 = optimal_vapor_states[5]\n",
    "optimal_vapor_state_7 = optimal_vapor_states[6]\n",
    "\n",
    "y_mass_flow = energy_balance(\n",
    "    optimal_vapor_state_6, optimal_vapor_state_5\n",
    ") / energy_balance(optimal_vapor_state_2, optimal_vapor_state_5)\n",
    "\n",
    "vapor_turbine_specific_work = energy_balance(\n",
    "    optimal_vapor_state_2, optimal_vapor_state_1\n",
    ") + (1 - y_mass_flow) * energy_balance(\n",
    "    optimal_vapor_state_3, optimal_vapor_state_2\n",
    ")\n",
    "vapor_pump_specific_work = (1 - y_mass_flow) * energy_balance(\n",
    "    optimal_vapor_state_4, optimal_vapor_state_5\n",
    ") + energy_balance(optimal_vapor_state_6, optimal_vapor_state_5)\n",
    "vapor_net_specific_work = (\n",
    "    vapor_turbine_specific_work - vapor_pump_specific_work\n",
    ")\n",
    "vapor_specific_heat_in = energy_balance(\n",
    "    optimal_vapor_state_7, optimal_vapor_state_1\n",
    ")\n",
    "\n",
    "vapor_efficiency = vapor_net_specific_work / vapor_specific_heat_in\n",
    "\n",
    "print(\"OPTIMAL RANKINE CYCLE\")\n",
    "print_states(optimal_vapor_states)\n",
    "\n",
    "print(\"\\n\")\n",
    "\n",
    "print(f\"Y mass flow: {y_mass_flow * 100:.2f} %\")\n",
    "print(\n",
    "    f\"Vapor turbine specific work: {vapor_turbine_specific_work * 1e-3:.2f} kJ/kg\"\n",
    ")\n",
    "print(f\"Vapor pump specific work: {vapor_pump_specific_work * 1e-3:.2f} kJ/kg\")\n",
    "print(f\"Vapor net specific work: {vapor_net_specific_work * 1e-3:.2f} kJ/kg\")\n",
    "print(f\"Vapor specific heat in: {vapor_specific_heat_in * 1e-3:.2f} kJ/kg\")\n",
    "print(f\"Vapor thermal efficiency: {vapor_efficiency * 100:.2f} %\")\n",
    "\n",
    "optimal_gas_state_in_boiler_a = optimal_gas_states_in_boiler[0]\n",
    "optimal_gas_state_in_boiler_b = optimal_gas_states_in_boiler[1]\n",
    "optimal_gas_state_in_boiler_7 = optimal_gas_states_in_boiler[2]\n",
    "\n",
    "print(\"\\nBRAYTON CYCLE CONTINUATION\")\n",
    "print(\n",
    "    f\"a - {optimal_gas_state_in_boiler_a.name}: {optimal_gas_state_in_boiler_a.pressure * 1e-5:.2f} bar,\"\n",
    "    f\" {optimal_gas_state_in_boiler_a.temperature:.2f} C, {optimal_gas_state_in_boiler_a.enthalpy * 1e-3:.2f} kJ/kg\"\n",
    ")\n",
    "print(\n",
    "    f\"b - {optimal_gas_state_in_boiler_b.name}: {optimal_gas_state_in_boiler_b.pressure * 1e-5:.2f} bar,\"\n",
    "    f\" {optimal_gas_state_in_boiler_b.temperature:.2f} C, {optimal_gas_state_in_boiler_b.enthalpy * 1e-3:.2f} kJ/kg\"\n",
    ")\n",
    "print(\n",
    "    f\"7 - {optimal_gas_state_in_boiler_7.name}: {optimal_gas_state_in_boiler_7.pressure * 1e-5:.2f} bar,\"\n",
    "    f\" {optimal_gas_state_in_boiler_7.temperature:.2f} C, {optimal_gas_state_in_boiler_7.enthalpy * 1e-3:.2f} kJ/kg\"\n",
    ")\n",
    "\n",
    "optimal_boiler_state_8_economizer = optimal_boiler_states[0]\n",
    "optimal_boiler_state_8_evaporator = optimal_boiler_states[1]\n",
    "optimal_boiler_state_12 = optimal_boiler_states[2]\n",
    "\n",
    "print(\"\\nRECOVERY BOILER\")\n",
    "print(\n",
    "    f\"8 econ - {optimal_boiler_state_8_economizer.name}: {optimal_boiler_state_8_economizer.pressure * 1e-5:.2f} bar,\"\n",
    "    f\" {optimal_boiler_state_8_economizer.temperature:.2f} C, {optimal_boiler_state_8_economizer.enthalpy * 1e-3:.2f} kJ/kg\"\n",
    ")\n",
    "print(\n",
    "    f\"12 - {optimal_boiler_state_12.name}: {optimal_boiler_state_12.pressure * 1e-5:.2f} bar,\"\n",
    "    f\" {optimal_boiler_state_12.temperature:.2f} C, {optimal_boiler_state_12.enthalpy * 1e-3:.2f} kJ/kg\"\n",
    ")\n",
    "print(\n",
    "    f\"8 evap - {optimal_boiler_state_8_evaporator.name}: {optimal_boiler_state_8_evaporator.pressure * 1e-5:.2f} bar,\"\n",
    "    f\" {optimal_boiler_state_8_evaporator.temperature:.2f} C, {optimal_boiler_state_8_evaporator.enthalpy * 1e-3:.2f} kJ/kg\"\n",
    ")"
   ]
  },
  {
   "cell_type": "markdown",
   "metadata": {},
   "source": [
    "# Plotting Monte Carlo results"
   ]
  },
  {
   "cell_type": "code",
   "execution_count": 430,
   "metadata": {},
   "outputs": [
    {
     "name": "stdout",
     "output_type": "stream",
     "text": [
      "Max efficiency: 21.17 %\n",
      "Vapor inlet pressure for max efficiency: 49.13 bar\n"
     ]
    },
    {
     "data": {
      "application/vnd.plotly.v1+json": {
       "config": {
        "plotlyServerURL": "https://plot.ly"
       },
       "data": [
        {
         "mode": "markers",
         "type": "scatter",
         "x": [
          6.190044333147969,
          44.97827706097059,
          38.72505155098265,
          24.901058407342695,
          37.294018613895474,
          16.041871903072433,
          6.408458665057978,
          29.953400971079045,
          31.817204127852634,
          8.272337109509037,
          15.388961434525749,
          42.514496349868814,
          36.49972638019548,
          10.69981132021828,
          13.411445804493114,
          21.473403672752063,
          22.68830698484684,
          36.122708623955624,
          23.80350813666597,
          16.737805453845134,
          18.139554219462422,
          40.12552549758923,
          49.04336204285372,
          28.93533779073996,
          30.430412556273975,
          14.798150514705167,
          12.189457908079476,
          6.2410677433594435,
          38.01827341547629,
          29.806381172360034,
          42.33278827432326,
          19.5872038592573,
          35.75999106036565,
          46.237510125847535,
          47.2998566814602,
          11.278666199139112,
          15.143790216266522,
          15.049979644810008,
          27.287238865309074,
          13.298131631927156,
          22.856377866635675,
          44.866132883249946,
          35.909211189292826,
          47.07930054614535,
          18.431318684770297,
          38.15137166153252,
          37.49627545874368,
          35.82378975621197,
          21.742800364953727,
          31.277422122746902,
          16.187721836767807,
          35.09521451195984,
          43.40506857061723,
          12.69615539235984,
          23.751591596541065,
          34.87815631491647,
          39.15582228191255,
          43.263050527208414,
          20.00913366474838,
          10.371963835890659,
          9.809078391140767,
          31.298536796853803,
          27.94777147565202,
          25.969489873422088,
          44.06932522655955,
          12.982702595643543,
          8.79682064943915,
          39.29398019350056,
          29.103531093731966,
          25.519363427606773,
          9.518583822962714,
          32.692133144154006,
          25.787047353604102,
          45.79192196294658,
          34.26070903127369,
          45.572560228473805,
          31.220591104743736,
          39.75802738019438,
          10.871948988067212,
          7.684047394046969,
          23.556430905766195,
          33.320200112112914,
          42.95869694018517,
          35.025623477754024,
          40.81877159377508,
          5.237917725265652,
          29.62695004402012,
          8.296061874834486,
          44.65245432084561,
          21.19912921647341,
          45.89740567361054,
          35.25994592291014,
          15.109143464055173,
          17.962403174397583,
          23.813078389080573,
          15.39215067820291,
          20.905926221860497,
          22.08657083199412,
          5.657305822537306,
          33.98664789949298,
          21.60817738038285,
          10.896613202949986,
          26.79985153410732,
          27.107809455231195,
          33.602789552966705,
          20.72032117226464,
          26.921940074080183,
          20.564799038848737,
          35.37798222138708,
          40.45740036985244,
          38.34389986235048,
          39.18414852319625,
          6.215143478251984,
          6.702146392428428,
          34.283792657655596,
          29.89551583692993,
          17.555801868575493,
          14.69390991482063,
          6.455798621455092,
          18.96198384253542,
          25.78214413346261,
          10.170641703168478,
          22.705844853929474,
          42.58439571786331,
          19.632393505262048,
          20.85664560041568,
          16.95390387068406,
          29.712723133438494,
          47.81192965014607,
          47.60003593411224,
          44.4086342054414,
          39.55122919119089,
          35.63102996997984,
          23.049282055730643,
          28.965693794400288,
          13.75126204032923,
          42.75125502875654,
          40.89259856177208,
          24.03558216674475,
          27.10160661946428,
          13.13238014214721,
          14.517928788201875,
          7.894906764250184,
          10.43446813170112,
          40.91489225256627,
          13.913682367261769,
          48.760195217430585,
          40.909072363188415,
          19.430601887724375,
          22.479915155517613,
          31.431761671825665,
          32.3869903155169,
          40.8737018505309,
          47.07572006166026,
          36.834534748195914,
          14.936695564845726,
          8.999350930308168,
          41.1210753990759,
          31.78546849915994,
          29.92007864229804,
          44.20566051494727,
          12.084420369466667,
          45.56658562143808,
          30.62188243186413,
          46.39652441835125,
          21.45920162835291,
          39.00918550368112,
          35.80335795742953,
          38.88157162720186,
          20.646520736418296,
          31.75666630273973,
          29.510984999029223,
          30.192892421816246,
          11.335651946920922,
          5.74531492932755,
          45.50303676577601,
          36.19580863726867,
          24.563797487207268,
          45.08764900905568,
          20.411371313841887,
          6.476197139578034,
          11.5127278101038,
          9.310006902707336,
          47.69823383421338,
          17.513102621897698,
          36.69184292766852,
          27.946867144221795,
          39.31527507597749,
          10.347683522128541,
          44.31592842379698,
          19.15603017483636,
          18.570064446839577,
          12.896962253499654,
          27.948338059493594,
          28.063180675459307,
          47.54827650191689,
          26.188620190432978,
          29.302442694722274,
          10.199638231101959,
          42.44003668647479,
          46.039704887800085,
          6.124954580415607,
          42.99230235748907,
          31.316382664937667,
          33.20260852916374,
          24.350919755457962,
          6.4377142069673186,
          12.051593263075906,
          9.784723525156164,
          7.976969443086127,
          42.626688985385414,
          46.324349077776056,
          44.8617248803056,
          34.79608350405984,
          34.85780369789408,
          36.66128257599557,
          26.57541217686838,
          41.420132371304476,
          20.49332827264172,
          8.916248536610969,
          41.836725174166844,
          28.147545843008352,
          16.852323780136924,
          39.207639739636825,
          14.783436352809378,
          42.464403680287916,
          8.29927267169015,
          20.87511000341555,
          36.49860034360085,
          14.992871828184006,
          43.57389424454572,
          41.60146450019018,
          24.594216196577108,
          48.255491289433756,
          28.484384980508736,
          11.391127210421105,
          21.700636454519472,
          6.030447505782129,
          21.106658482039553,
          5.726955482193606,
          46.78942542216804,
          19.818164394856893,
          39.41209318024346,
          25.827680860675592,
          26.41852012294253,
          44.76616181856893,
          24.251744842013178,
          18.313561438417135,
          20.60305632541977,
          14.459784893575293,
          26.62143688313004,
          35.72253038443463,
          20.48693553092658,
          21.479045030758893,
          32.19720202021817,
          43.69576192212763,
          48.05562461791077,
          35.76729986411996,
          15.036386535560048,
          15.841267181438102,
          33.82743988996909,
          34.57237461612506,
          42.377895299888536,
          35.715967813640674,
          23.82659235498428,
          9.290532409195531,
          47.39643431851513,
          41.418260856075136,
          35.73780107342874,
          6.72999491925409,
          20.7639781503613,
          22.58664487795053,
          13.489621444149073,
          41.679771956211226,
          27.09009069999353,
          48.35053246873425,
          25.023466669163774,
          5.586801973946775,
          26.9307831171537,
          22.815536223883598,
          46.288806428972165,
          44.1893023031578,
          33.77140159295589,
          47.642638253623964,
          44.396490902387036,
          38.42310766335175,
          33.96802387479924,
          38.46540346019402,
          33.24415894081686,
          23.874969504482717,
          40.033437520309874,
          35.43213907547918,
          29.097824617666028,
          36.43067632333221,
          16.907451759616478,
          20.56435918813991,
          36.43768980015659,
          37.35314144486189,
          32.23451540213559,
          33.965232084118135,
          34.61706432022849,
          26.170489725714297,
          30.2919936622381,
          36.54279099740059,
          11.855744389608823,
          28.680967947040823,
          46.71618236738717,
          28.511674318273755,
          19.38052295626435,
          26.577013539384833,
          47.422092458203856,
          33.34513376063677,
          40.191292956881014,
          5.179296260987482,
          32.65075389118922,
          42.85397122260094,
          26.024408062401047,
          17.920265564010204,
          48.1480265629327,
          31.348209062989163,
          34.378722931662885,
          14.590606254832727,
          8.897793946180586,
          19.965478534285843,
          38.267593780663724,
          16.99658193643187,
          39.16775267649393,
          23.71509339059599,
          8.136086421209006,
          43.07782580463303,
          10.12784310116505,
          19.303611911738017,
          22.805134181069864,
          39.73466077510419,
          29.76802457337428,
          30.503438067875564,
          24.227118221909404,
          34.59447914805474,
          47.18188323962517,
          5.894528948826816,
          25.60883066844812,
          23.624749237153846,
          35.37087522978502,
          47.71664570743826,
          20.822727097754047,
          43.491572398305,
          8.799379640718154,
          11.130695431339666,
          35.61965099054963,
          28.763864653811137,
          6.168275841776177,
          47.074368594099184,
          5.481354752947283,
          43.67715599319494,
          20.359279249377956,
          26.632707238509465,
          19.36885716184106,
          34.50237279305475,
          25.030173627447887,
          17.27085920046904,
          9.029806743524114,
          18.281789945141888,
          9.257280690570107,
          22.37515569634745,
          26.65086116196037,
          45.79370113370247,
          42.30410090775301,
          30.31904410048487,
          32.62127074864745,
          13.95501531289387,
          8.932714812062844,
          35.282749458359035,
          43.9595245056726,
          11.979570916403572,
          49.13381816517587,
          9.321441078823842,
          21.864003707327303,
          25.403809094116912,
          28.550166406939045,
          10.584384704807182,
          48.45065462612829,
          13.49392658841523,
          12.698731310502689,
          33.2073399361028,
          33.37159398960936,
          46.46067066620442,
          13.672700746174948,
          38.83758682908589,
          39.583375702057054,
          40.70281002177137,
          45.186448453896716,
          20.812086733330727,
          41.853815115020495,
          22.37459052745691,
          42.624954311623036,
          11.819784074901362,
          15.039606640997032,
          43.61638970127054,
          42.711807412006166,
          43.82588787377956,
          28.993536046949856,
          44.75856214180277,
          18.92170155895857,
          20.82757998852598,
          34.844853468167,
          26.21309923351562,
          39.38499670252268,
          48.910200011403106,
          38.77626772796455,
          18.39380209885257,
          23.83025718004237,
          21.346464996215666,
          19.400474098597016,
          38.08080827357005,
          36.09449052099816,
          37.82619355376068,
          38.23755993926456,
          19.602982892646637,
          36.93359453440866,
          41.12640353614545,
          42.26670072111457,
          22.601364656706384,
          10.934225314274165,
          18.674022161869413,
          43.14542187609632,
          32.203538887006594,
          16.146343996410106,
          21.109335865483942,
          42.86779266587652,
          16.692487359903254,
          16.791849203128272,
          25.560144350164673,
          25.973169879102308,
          28.74176747627316,
          25.95380369261063,
          32.94083225123897,
          23.43622109039663,
          18.980338834082087,
          8.132813476323037,
          47.33936813332531,
          47.416325068050575,
          30.448333978189407,
          48.75796790717307,
          21.589337273563384,
          19.20776984398662,
          28.614179057635084,
          44.45379214908282,
          22.335143060191477,
          5.871418886298691,
          19.6628001510156,
          19.978182633342534,
          46.03579967782753,
          43.68594096841626,
          11.861775035330286,
          47.71743842538271,
          16.10481265569807,
          30.15371037933897,
          11.12386386825801,
          22.24772394073447,
          10.254863434780866,
          17.8850337978435,
          34.377141368945104,
          34.50910512679951,
          38.91350192769329,
          44.8565640423156,
          19.375476222242707,
          24.98060916409873,
          17.54638061673828,
          29.86737930213626,
          10.24173977781015,
          21.780089499947998,
          9.66725685762583,
          14.28545459494479,
          19.641823288479948,
          40.82367890356306,
          42.43592243457995
         ],
         "y": [
          17.567960578006776,
          20.950830385932168,
          20.599432051925678,
          19.66883996953609,
          20.514094011097388,
          18.87952991575161,
          17.60712654078485,
          20.04006449880554,
          20.16685379707988,
          17.914311568675163,
          18.811374027336466,
          20.816254903775167,
          20.465833728834887,
          18.259412793438155,
          18.59328442560193,
          19.38867642568981,
          19.49103320923344,
          20.442694262532417,
          19.581962830836392,
          18.95029599651867,
          19.087423741124642,
          20.681049018566785,
          21.163279983777997,
          19.968674888064257,
          20.072982216087837,
          18.748131945853146,
          18.448450878235114,
          17.577178269805064,
          20.557536978167022,
          20.029851623292334,
          20.806140102669943,
          19.222205766515703,
          20.420287913689922,
          21.01785602999201,
          21.073534671869282,
          18.334648176562315,
          18.785316569914915,
          18.7752767910615,
          19.84962718823744,
          18.580203036159492,
          19.50491653852736,
          20.944805442090626,
          20.42952309329415,
          21.0620386455078,
          19.115120082908852,
          20.565463757587228,
          20.52627910378735,
          20.424239369264505,
          19.41168491540895,
          20.130631867842855,
          18.89451733725096,
          20.37884604194141,
          20.865443994269206,
          18.50953656863064,
          19.5777906830689,
          20.36520717750457,
          20.624731083703598,
          20.857642180632688,
          19.26029778163014,
          18.215715799609182,
          18.138731730079634,
          20.132056209783602,
          19.897876183367075,
          19.75109688863312,
          20.90172657704284,
          18.54342469730713,
          17.993443811587845,
          20.63280800488546,
          19.98057834368333,
          19.71671056189434,
          18.097976061966357,
          20.22474420144142,
          19.737205816784336,
          20.994268527728583,
          20.32611322474642,
          20.982604581065605,
          20.126795148377006,
          20.65980716373339,
          18.282035949608964,
          17.822039505239292,
          19.56205488303891,
          20.2656960204156,
          20.84086869058235,
          20.374479119930474,
          20.72079020770857,
          17.38769790221868,
          20.01734365221238,
          17.9179526319956,
          20.933299773887853,
          19.365062203841145,
          20.9998650857742,
          20.38916132667855,
          18.781613123022492,
          19.070470184513436,
          19.5827312880475,
          18.81171128140664,
          19.339602799081597,
          19.440783898757406,
          17.469107355306694,
          20.308617703927435,
          19.400209887665014,
          18.2852598126348,
          19.813545765313187,
          19.836392177921624,
          20.283961772754747,
          19.323369038592602,
          19.822623064268637,
          19.309695285639286,
          20.39653386545831,
          20.70012732561016,
          20.576899196365318,
          20.626388535342596,
          17.57250015395381,
          17.658624862377632,
          20.327582777976456,
          20.036047273107453,
          19.031156078218793,
          18.73681192443188,
          17.61551646350569,
          19.164794274448678,
          19.736831624418162,
          18.188473335789137,
          19.492484959779937,
          20.82013869516226,
          19.226310184083964,
          19.335301463368744,
          18.97189427130317,
          20.02332881934663,
          21.10009955102668,
          21.08912830922223,
          20.920129478014697,
          20.647799803652177,
          20.412286898821996,
          19.52077133961378,
          19.970826515011897,
          18.632111307183337,
          20.829393831810403,
          20.724997478341596,
          19.600542349460948,
          19.8359336481991,
          18.56094427830032,
          18.71758775951256,
          17.855561766876058,
          18.2241095958977,
          20.72626702346048,
          18.65046068761454,
          21.148837997682442,
          20.725935643510628,
          19.207935639517157,
          19.4737280224661,
          20.1410291413378,
          20.204667348347314,
          20.723921040088015,
          21.061851748529705,
          20.486256334321094,
          18.763100979264077,
          18.02326672690501,
          20.73798797267612,
          20.164735056464277,
          20.037752535771133,
          20.90913141424804,
          18.43559540538905,
          20.982286414945488,
          20.086102709072502,
          21.02623971781825,
          19.387458389331698,
          20.61613887263186,
          20.422974384020833,
          20.608644784426634,
          19.31688853095247,
          20.162810992586863,
          20.009234126209353,
          20.056632808793136,
          18.34192804903012,
          17.485777701534,
          20.97890065242588,
          20.447192663578328,
          19.642408354172932,
          20.95669746785987,
          19.29614128038003,
          17.619120954990425,
          18.36440946386849,
          18.068259487739013,
          21.094216413671695,
          19.02699442051152,
          20.47756682847501,
          19.897810626069155,
          20.634051349342684,
          18.212447031085073,
          20.915110111511478,
          19.1827391558541,
          19.128193905726782,
          18.533333116191393,
          19.897917255788965,
          19.90623140811503,
          21.0864438223948,
          19.767699291517253,
          19.99459932000958,
          18.19241673523571,
          20.81211335780786,
          21.007402410035255,
          17.556140235976695,
          20.842724364941596,
          20.133259569415042,
          20.25806625555538,
          19.6256055116175,
          17.612315514272638,
          18.43156380061317,
          18.135342392492397,
          17.86846996317017,
          20.82248669420829,
          21.022436618546504,
          20.944568432414894,
          20.360036117606683,
          20.363925564984108,
          20.475703021057317,
          19.79678958240997,
          20.754923485063255,
          19.30338946918862,
          18.011077543935045,
          20.77838829583738,
          19.91232529185386,
          18.96176332013926,
          20.627762504841083,
          18.746537062837774,
          20.813469179924162,
          17.918444935603755,
          19.33691383717446,
          20.46576484374535,
          18.769145962709402,
          20.87469791860451,
          20.765155124505558,
          19.644801769835325,
          21.122970151244516,
          19.93654046129328,
          18.348993796672396,
          19.408095804853954,
          17.53885327170445,
          19.357057045964606,
          17.48231157294291,
          21.046879230580622,
          19.243120600329654,
          20.63969894505424,
          19.740305043380637,
          19.785022648019954,
          20.939426654695147,
          19.617745464799825,
          19.103975219932188,
          19.313064991628856,
          18.711204429632804,
          19.800233031842613,
          20.417965659240856,
          19.302824763137927,
          19.389160113980203,
          20.19211949827038,
          20.88136410185981,
          21.112680719286633,
          20.420740820076333,
          18.77381881023682,
          18.858776311695692,
          20.298413042458023,
          20.345901800121176,
          20.80865350788656,
          20.417558675134643,
          19.58381607636081,
          18.065465027541862,
          21.078558250393197,
          20.754817739477136,
          20.418912502556857,
          17.66344109696351,
          19.32719572297118,
          19.48260371927312,
          18.602269764316624,
          20.76956500873324,
          19.83508218392722,
          21.12785389660749,
          19.678376790703904,
          17.455651777218346,
          19.82327952459283,
          19.501548846931158,
          21.020562450028567,
          20.908243690556663,
          20.2948139371608,
          21.091336526886792,
          20.919472372569853,
          20.581593346151315,
          20.307425539825733,
          20.58409745979227,
          20.2607641539029,
          19.587696179260313,
          20.675737703489354,
          20.39991128718291,
          19.980175202350665,
          20.461607118073076,
          18.967266168390243,
          19.30965652043912,
          20.46203664957039,
          20.517660204985244,
          20.194590180043427,
          20.307246795519607,
          20.348729997393743,
          19.766329008438706,
          20.063464250776384,
          20.468467192339617,
          18.40737131810576,
          19.950588366845583,
          21.04303977978863,
          19.938494258643765,
          19.203356929741215,
          19.79690945608041,
          21.079891830103993,
          20.26731160649628,
          20.684837584988276,
          17.37604874655672,
          20.222028658969478,
          20.8350799967451,
          19.755266131652995,
          19.066422087324124,
          21.117440945627823,
          20.135404562936916,
          20.3336196548007,
          18.72554444118002,
          18.008361711514414,
          19.256380299974683,
          20.57237123951787,
          18.976139357541264,
          20.625429257909804,
          19.57485411311148,
          17.89328388248978,
          20.8474428659648,
          18.182640688982815,
          19.19631037668788,
          19.500690509584377,
          20.658452390236178,
          20.0271818642838,
          20.077992485217926,
          19.615790522784422,
          20.347300979533806,
          21.067389645594183,
          17.51372795041698,
          19.72357582686514,
          19.567572803484936,
          20.396090404283708,
          21.09516970840188,
          19.33233722429871,
          20.87018835447388,
          17.993823106242075,
          18.315641010486768,
          20.411580044053938,
          19.956493790716205,
          17.564015113711022,
          21.06178120128725,
          17.435356537092662,
          20.880347100488073,
          19.291524719099996,
          19.80107567156355,
          19.202289253909413,
          20.34146705764436,
          19.678898468893717,
          19.00326280213171,
          18.02771743885381,
          19.10096054813584,
          18.06068567747459,
          19.464990064333403,
          19.802432490028043,
          20.99436298938902,
          20.804540748635805,
          20.06532646971172,
          20.220092471961625,
          18.6551091626371,
          18.013498006858377,
          20.39058685040124,
          20.895752606421805,
          18.42269507547373,
          21.1678827134936,
          18.069898618674884,
          19.42197751686767,
          19.707820744927794,
          19.941248096941255,
          18.244120619603844,
          21.132992407453283,
          18.602763657389534,
          18.50984327801134,
          20.258373577410733,
          20.269025268990376,
          21.02961669614334,
          18.623187946077053,
          20.606058208644072,
          20.649668912973258,
          20.71417214204902,
          20.961989861030254,
          19.331406700015375,
          20.77934777766945,
          19.46494285324503,
          20.822390418677045,
          18.402902996141833,
          18.774164268902137,
          20.87702373858091,
          20.827207832777848,
          20.888469304157862,
          19.972798703665603,
          20.939017462657265,
          19.161054558449848,
          19.332761520574774,
          20.36310983691825,
          19.76954843404956,
          20.638119231069208,
          21.15649482816765,
          20.602449195310417,
          19.11157429605011,
          19.584110190329973,
          19.377771335895005,
          19.205181955281997,
          20.561263467288914,
          20.440956248040735,
          20.546066630783777,
          20.57058749121883,
          19.223639600912424,
          20.4922762887973,
          20.738290375458448,
          20.80245463044119,
          19.483825727949412,
          18.290167680946514,
          19.13794938264691,
          20.851168162416982,
          20.192539218205297,
          18.890273983419064,
          19.3572891387018,
          20.83584447754539,
          18.945744485289485,
          18.95571378674982,
          19.71984178538417,
          19.751376440634882,
          19.95492068685055,
          19.74990500277012,
          20.2410194034664,
          19.552321000286458,
          19.16649664676871,
          17.892776288727095,
          21.075590655831338,
          21.079592108933664,
          20.07421251087715,
          21.14872419919233,
          19.39860037010571,
          19.18750449399887,
          19.94582251216384,
          20.92257211639901,
          19.46164575367885,
          17.509424475419216,
          19.229068550877287,
          19.257520887093804,
          21.007195749674374,
          20.880827321303723,
          18.408119863624094,
          21.09521074718785,
          18.886008051700315,
          20.053927893094166,
          18.314759819324173,
          19.454325864140554,
          18.199908723035396,
          19.06303282388818,
          20.33351916554055,
          20.341893810998375,
          20.61052133011568,
          20.94429092600194,
          19.20289509286089,
          19.675041156499745,
          19.030238388638672,
          20.03409280784158,
          18.198130513139585,
          19.41485538781242,
          18.118924792338515,
          18.69196984595024,
          19.227165904465757,
          20.721070014304736,
          20.81188438584431
         ]
        }
       ],
       "layout": {
        "template": {
         "data": {
          "bar": [
           {
            "error_x": {
             "color": "#2a3f5f"
            },
            "error_y": {
             "color": "#2a3f5f"
            },
            "marker": {
             "line": {
              "color": "#E5ECF6",
              "width": 0.5
             },
             "pattern": {
              "fillmode": "overlay",
              "size": 10,
              "solidity": 0.2
             }
            },
            "type": "bar"
           }
          ],
          "barpolar": [
           {
            "marker": {
             "line": {
              "color": "#E5ECF6",
              "width": 0.5
             },
             "pattern": {
              "fillmode": "overlay",
              "size": 10,
              "solidity": 0.2
             }
            },
            "type": "barpolar"
           }
          ],
          "carpet": [
           {
            "aaxis": {
             "endlinecolor": "#2a3f5f",
             "gridcolor": "white",
             "linecolor": "white",
             "minorgridcolor": "white",
             "startlinecolor": "#2a3f5f"
            },
            "baxis": {
             "endlinecolor": "#2a3f5f",
             "gridcolor": "white",
             "linecolor": "white",
             "minorgridcolor": "white",
             "startlinecolor": "#2a3f5f"
            },
            "type": "carpet"
           }
          ],
          "choropleth": [
           {
            "colorbar": {
             "outlinewidth": 0,
             "ticks": ""
            },
            "type": "choropleth"
           }
          ],
          "contour": [
           {
            "colorbar": {
             "outlinewidth": 0,
             "ticks": ""
            },
            "colorscale": [
             [
              0,
              "#0d0887"
             ],
             [
              0.1111111111111111,
              "#46039f"
             ],
             [
              0.2222222222222222,
              "#7201a8"
             ],
             [
              0.3333333333333333,
              "#9c179e"
             ],
             [
              0.4444444444444444,
              "#bd3786"
             ],
             [
              0.5555555555555556,
              "#d8576b"
             ],
             [
              0.6666666666666666,
              "#ed7953"
             ],
             [
              0.7777777777777778,
              "#fb9f3a"
             ],
             [
              0.8888888888888888,
              "#fdca26"
             ],
             [
              1,
              "#f0f921"
             ]
            ],
            "type": "contour"
           }
          ],
          "contourcarpet": [
           {
            "colorbar": {
             "outlinewidth": 0,
             "ticks": ""
            },
            "type": "contourcarpet"
           }
          ],
          "heatmap": [
           {
            "colorbar": {
             "outlinewidth": 0,
             "ticks": ""
            },
            "colorscale": [
             [
              0,
              "#0d0887"
             ],
             [
              0.1111111111111111,
              "#46039f"
             ],
             [
              0.2222222222222222,
              "#7201a8"
             ],
             [
              0.3333333333333333,
              "#9c179e"
             ],
             [
              0.4444444444444444,
              "#bd3786"
             ],
             [
              0.5555555555555556,
              "#d8576b"
             ],
             [
              0.6666666666666666,
              "#ed7953"
             ],
             [
              0.7777777777777778,
              "#fb9f3a"
             ],
             [
              0.8888888888888888,
              "#fdca26"
             ],
             [
              1,
              "#f0f921"
             ]
            ],
            "type": "heatmap"
           }
          ],
          "heatmapgl": [
           {
            "colorbar": {
             "outlinewidth": 0,
             "ticks": ""
            },
            "colorscale": [
             [
              0,
              "#0d0887"
             ],
             [
              0.1111111111111111,
              "#46039f"
             ],
             [
              0.2222222222222222,
              "#7201a8"
             ],
             [
              0.3333333333333333,
              "#9c179e"
             ],
             [
              0.4444444444444444,
              "#bd3786"
             ],
             [
              0.5555555555555556,
              "#d8576b"
             ],
             [
              0.6666666666666666,
              "#ed7953"
             ],
             [
              0.7777777777777778,
              "#fb9f3a"
             ],
             [
              0.8888888888888888,
              "#fdca26"
             ],
             [
              1,
              "#f0f921"
             ]
            ],
            "type": "heatmapgl"
           }
          ],
          "histogram": [
           {
            "marker": {
             "pattern": {
              "fillmode": "overlay",
              "size": 10,
              "solidity": 0.2
             }
            },
            "type": "histogram"
           }
          ],
          "histogram2d": [
           {
            "colorbar": {
             "outlinewidth": 0,
             "ticks": ""
            },
            "colorscale": [
             [
              0,
              "#0d0887"
             ],
             [
              0.1111111111111111,
              "#46039f"
             ],
             [
              0.2222222222222222,
              "#7201a8"
             ],
             [
              0.3333333333333333,
              "#9c179e"
             ],
             [
              0.4444444444444444,
              "#bd3786"
             ],
             [
              0.5555555555555556,
              "#d8576b"
             ],
             [
              0.6666666666666666,
              "#ed7953"
             ],
             [
              0.7777777777777778,
              "#fb9f3a"
             ],
             [
              0.8888888888888888,
              "#fdca26"
             ],
             [
              1,
              "#f0f921"
             ]
            ],
            "type": "histogram2d"
           }
          ],
          "histogram2dcontour": [
           {
            "colorbar": {
             "outlinewidth": 0,
             "ticks": ""
            },
            "colorscale": [
             [
              0,
              "#0d0887"
             ],
             [
              0.1111111111111111,
              "#46039f"
             ],
             [
              0.2222222222222222,
              "#7201a8"
             ],
             [
              0.3333333333333333,
              "#9c179e"
             ],
             [
              0.4444444444444444,
              "#bd3786"
             ],
             [
              0.5555555555555556,
              "#d8576b"
             ],
             [
              0.6666666666666666,
              "#ed7953"
             ],
             [
              0.7777777777777778,
              "#fb9f3a"
             ],
             [
              0.8888888888888888,
              "#fdca26"
             ],
             [
              1,
              "#f0f921"
             ]
            ],
            "type": "histogram2dcontour"
           }
          ],
          "mesh3d": [
           {
            "colorbar": {
             "outlinewidth": 0,
             "ticks": ""
            },
            "type": "mesh3d"
           }
          ],
          "parcoords": [
           {
            "line": {
             "colorbar": {
              "outlinewidth": 0,
              "ticks": ""
             }
            },
            "type": "parcoords"
           }
          ],
          "pie": [
           {
            "automargin": true,
            "type": "pie"
           }
          ],
          "scatter": [
           {
            "fillpattern": {
             "fillmode": "overlay",
             "size": 10,
             "solidity": 0.2
            },
            "type": "scatter"
           }
          ],
          "scatter3d": [
           {
            "line": {
             "colorbar": {
              "outlinewidth": 0,
              "ticks": ""
             }
            },
            "marker": {
             "colorbar": {
              "outlinewidth": 0,
              "ticks": ""
             }
            },
            "type": "scatter3d"
           }
          ],
          "scattercarpet": [
           {
            "marker": {
             "colorbar": {
              "outlinewidth": 0,
              "ticks": ""
             }
            },
            "type": "scattercarpet"
           }
          ],
          "scattergeo": [
           {
            "marker": {
             "colorbar": {
              "outlinewidth": 0,
              "ticks": ""
             }
            },
            "type": "scattergeo"
           }
          ],
          "scattergl": [
           {
            "marker": {
             "colorbar": {
              "outlinewidth": 0,
              "ticks": ""
             }
            },
            "type": "scattergl"
           }
          ],
          "scattermapbox": [
           {
            "marker": {
             "colorbar": {
              "outlinewidth": 0,
              "ticks": ""
             }
            },
            "type": "scattermapbox"
           }
          ],
          "scatterpolar": [
           {
            "marker": {
             "colorbar": {
              "outlinewidth": 0,
              "ticks": ""
             }
            },
            "type": "scatterpolar"
           }
          ],
          "scatterpolargl": [
           {
            "marker": {
             "colorbar": {
              "outlinewidth": 0,
              "ticks": ""
             }
            },
            "type": "scatterpolargl"
           }
          ],
          "scatterternary": [
           {
            "marker": {
             "colorbar": {
              "outlinewidth": 0,
              "ticks": ""
             }
            },
            "type": "scatterternary"
           }
          ],
          "surface": [
           {
            "colorbar": {
             "outlinewidth": 0,
             "ticks": ""
            },
            "colorscale": [
             [
              0,
              "#0d0887"
             ],
             [
              0.1111111111111111,
              "#46039f"
             ],
             [
              0.2222222222222222,
              "#7201a8"
             ],
             [
              0.3333333333333333,
              "#9c179e"
             ],
             [
              0.4444444444444444,
              "#bd3786"
             ],
             [
              0.5555555555555556,
              "#d8576b"
             ],
             [
              0.6666666666666666,
              "#ed7953"
             ],
             [
              0.7777777777777778,
              "#fb9f3a"
             ],
             [
              0.8888888888888888,
              "#fdca26"
             ],
             [
              1,
              "#f0f921"
             ]
            ],
            "type": "surface"
           }
          ],
          "table": [
           {
            "cells": {
             "fill": {
              "color": "#EBF0F8"
             },
             "line": {
              "color": "white"
             }
            },
            "header": {
             "fill": {
              "color": "#C8D4E3"
             },
             "line": {
              "color": "white"
             }
            },
            "type": "table"
           }
          ]
         },
         "layout": {
          "annotationdefaults": {
           "arrowcolor": "#2a3f5f",
           "arrowhead": 0,
           "arrowwidth": 1
          },
          "autotypenumbers": "strict",
          "coloraxis": {
           "colorbar": {
            "outlinewidth": 0,
            "ticks": ""
           }
          },
          "colorscale": {
           "diverging": [
            [
             0,
             "#8e0152"
            ],
            [
             0.1,
             "#c51b7d"
            ],
            [
             0.2,
             "#de77ae"
            ],
            [
             0.3,
             "#f1b6da"
            ],
            [
             0.4,
             "#fde0ef"
            ],
            [
             0.5,
             "#f7f7f7"
            ],
            [
             0.6,
             "#e6f5d0"
            ],
            [
             0.7,
             "#b8e186"
            ],
            [
             0.8,
             "#7fbc41"
            ],
            [
             0.9,
             "#4d9221"
            ],
            [
             1,
             "#276419"
            ]
           ],
           "sequential": [
            [
             0,
             "#0d0887"
            ],
            [
             0.1111111111111111,
             "#46039f"
            ],
            [
             0.2222222222222222,
             "#7201a8"
            ],
            [
             0.3333333333333333,
             "#9c179e"
            ],
            [
             0.4444444444444444,
             "#bd3786"
            ],
            [
             0.5555555555555556,
             "#d8576b"
            ],
            [
             0.6666666666666666,
             "#ed7953"
            ],
            [
             0.7777777777777778,
             "#fb9f3a"
            ],
            [
             0.8888888888888888,
             "#fdca26"
            ],
            [
             1,
             "#f0f921"
            ]
           ],
           "sequentialminus": [
            [
             0,
             "#0d0887"
            ],
            [
             0.1111111111111111,
             "#46039f"
            ],
            [
             0.2222222222222222,
             "#7201a8"
            ],
            [
             0.3333333333333333,
             "#9c179e"
            ],
            [
             0.4444444444444444,
             "#bd3786"
            ],
            [
             0.5555555555555556,
             "#d8576b"
            ],
            [
             0.6666666666666666,
             "#ed7953"
            ],
            [
             0.7777777777777778,
             "#fb9f3a"
            ],
            [
             0.8888888888888888,
             "#fdca26"
            ],
            [
             1,
             "#f0f921"
            ]
           ]
          },
          "colorway": [
           "#636efa",
           "#EF553B",
           "#00cc96",
           "#ab63fa",
           "#FFA15A",
           "#19d3f3",
           "#FF6692",
           "#B6E880",
           "#FF97FF",
           "#FECB52"
          ],
          "font": {
           "color": "#2a3f5f"
          },
          "geo": {
           "bgcolor": "white",
           "lakecolor": "white",
           "landcolor": "#E5ECF6",
           "showlakes": true,
           "showland": true,
           "subunitcolor": "white"
          },
          "hoverlabel": {
           "align": "left"
          },
          "hovermode": "closest",
          "mapbox": {
           "style": "light"
          },
          "paper_bgcolor": "white",
          "plot_bgcolor": "#E5ECF6",
          "polar": {
           "angularaxis": {
            "gridcolor": "white",
            "linecolor": "white",
            "ticks": ""
           },
           "bgcolor": "#E5ECF6",
           "radialaxis": {
            "gridcolor": "white",
            "linecolor": "white",
            "ticks": ""
           }
          },
          "scene": {
           "xaxis": {
            "backgroundcolor": "#E5ECF6",
            "gridcolor": "white",
            "gridwidth": 2,
            "linecolor": "white",
            "showbackground": true,
            "ticks": "",
            "zerolinecolor": "white"
           },
           "yaxis": {
            "backgroundcolor": "#E5ECF6",
            "gridcolor": "white",
            "gridwidth": 2,
            "linecolor": "white",
            "showbackground": true,
            "ticks": "",
            "zerolinecolor": "white"
           },
           "zaxis": {
            "backgroundcolor": "#E5ECF6",
            "gridcolor": "white",
            "gridwidth": 2,
            "linecolor": "white",
            "showbackground": true,
            "ticks": "",
            "zerolinecolor": "white"
           }
          },
          "shapedefaults": {
           "line": {
            "color": "#2a3f5f"
           }
          },
          "ternary": {
           "aaxis": {
            "gridcolor": "white",
            "linecolor": "white",
            "ticks": ""
           },
           "baxis": {
            "gridcolor": "white",
            "linecolor": "white",
            "ticks": ""
           },
           "bgcolor": "#E5ECF6",
           "caxis": {
            "gridcolor": "white",
            "linecolor": "white",
            "ticks": ""
           }
          },
          "title": {
           "x": 0.05
          },
          "xaxis": {
           "automargin": true,
           "gridcolor": "white",
           "linecolor": "white",
           "ticks": "",
           "title": {
            "standoff": 15
           },
           "zerolinecolor": "white",
           "zerolinewidth": 2
          },
          "yaxis": {
           "automargin": true,
           "gridcolor": "white",
           "linecolor": "white",
           "ticks": "",
           "title": {
            "standoff": 15
           },
           "zerolinecolor": "white",
           "zerolinewidth": 2
          }
         }
        },
        "title": {
         "text": "Monte Carlo Simulation: Pressure vs Efficiency"
        },
        "xaxis": {
         "title": {
          "text": "Pressure (bar)"
         }
        },
        "yaxis": {
         "title": {
          "text": "Efficiency (%)"
         }
        }
       }
      }
     },
     "metadata": {},
     "output_type": "display_data"
    }
   ],
   "source": [
    "print(f\"Max efficiency: {max_efficiency * 100:.2f} %\")\n",
    "print(\n",
    "    f\"Vapor inlet pressure for max efficiency: {pascal_to_bar(optimal_inlet_pressure):.2f} bar\"\n",
    ")\n",
    "\n",
    "fig = go.Figure(\n",
    "    data=go.Scatter(\n",
    "        x=pascal_to_bar(pressures),\n",
    "        y=system_efficiencies * 100,\n",
    "        mode=\"markers\",\n",
    "    )\n",
    ")\n",
    "fig.update_layout(\n",
    "    title=\"Monte Carlo Simulation: Pressure vs Efficiency\",\n",
    "    xaxis_title=\"Pressure (bar)\",\n",
    "    yaxis_title=\"Efficiency (%)\",\n",
    ")\n",
    "fig.show()"
   ]
  }
 ],
 "metadata": {
  "kernelspec": {
   "display_name": "Python 3",
   "language": "python",
   "name": "python3"
  },
  "language_info": {
   "codemirror_mode": {
    "name": "ipython",
    "version": 3
   },
   "file_extension": ".py",
   "mimetype": "text/x-python",
   "name": "python",
   "nbconvert_exporter": "python",
   "pygments_lexer": "ipython3",
   "version": "3.11.6"
  }
 },
 "nbformat": 4,
 "nbformat_minor": 2
}
