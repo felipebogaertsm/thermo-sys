{
 "cells": [
  {
   "cell_type": "markdown",
   "metadata": {},
   "source": [
    "# Trabalho de Geração Termelétrica e Cogeração\n",
    "## 2023.3\n",
    "### 15 de Dezembro de 2023\n",
    "\n",
    "Componentes do grupo:\n",
    "- Felipe Bogaerts de Mattos\n",
    "- Igor Lopes Passi\n",
    "- Rafael Malta"
   ]
  },
  {
   "cell_type": "markdown",
   "metadata": {},
   "source": [
    "## Import modules\n"
   ]
  },
  {
   "cell_type": "code",
   "execution_count": 415,
   "metadata": {},
   "outputs": [],
   "source": [
    "import numpy as np\n",
    "import plotly.graph_objects as go\n",
    "from pyfluids import Fluid, FluidsList, Input\n",
    "\n",
    "from thermosys.processes import (\n",
    "    heat_to_temperature,\n",
    "    turbine_to_enthalpy,\n",
    "    turbine_to_pressure,\n",
    ")\n",
    "from thermosys.processes.gas import compress_to\n",
    "from thermosys.processes.vapor import condense_to_pressure, pump_to_pressure\n",
    "from thermosys.services.energy import energy_balance\n",
    "from thermosys.services.misc import print_states\n",
    "from thermosys.services.montecarlo import get_random_value\n",
    "from thermosys.services.units import bar_to_pascal, pascal_to_bar"
   ]
  },
  {
   "cell_type": "markdown",
   "metadata": {},
   "source": [
    "## Constants\n"
   ]
  },
  {
   "cell_type": "code",
   "execution_count": 416,
   "metadata": {},
   "outputs": [],
   "source": [
    "GAS_MASS_FLOW_PER_SYSTEM = 450  # kg/s\n",
    "NUMBER_OF_GAS_SYSTEMS = 2  # -\n",
    "\n",
    "GAS_INLET_PRESSURE = bar_to_pascal(1)  # Pa\n",
    "GAS_INLET_TEMPERATURE = 30  # C\n",
    "GAS_MASS_FLUX = 450  # kg/s\n",
    "GAS_COMPRESSOR_EFFICIENCY = 0.8  # -\n",
    "GAS_COMPRESSION_RATIO = 25  # -\n",
    "GAS_TURBINE_C_EFFICIENCY = 0.8  # -\n",
    "GAS_COMBUSTION_CHAMBER_1_TEMPERATURE = 1000  # C\n",
    "GAS_TURBINE_P_EFFICIENCY = 0.85  # -\n",
    "GAS_COMBUSTION_CHAMBER_2_TEMPERATURE = 710  # C\n",
    "\n",
    "VAPOR_DEAERATOR_PRESSURE = bar_to_pascal(5)  # Pa\n",
    "VAPOR_TURBINE_EFFICIENCY = 0.9  # -\n",
    "VAPOR_CONDENSER_PRESSURE = bar_to_pascal(0.1)  # Pa\n",
    "VAPOR_PUMP_EFFICIENCY = 0.9999  # -\n",
    "VAPOR_DEAERATOR_TEMPERATURE = 120  # C\n",
    "VAPOR_STATE_3_QUALITY_LOWER_THRESHOLD = 0.92  # -\n",
    "\n",
    "AMBIENT_PRESSURE = bar_to_pascal(1)  # Pa\n",
    "AMBIENT_TEMPERATURE = 30  # C\n",
    "\n",
    "RECOVERY_BOILER_DELTA_TSA = 25  # C\n",
    "RECOVERY_BOILER_DELTA_TP = 10  # C\n",
    "RECOVERY_BOILER_DELTA_TE = 10  # C\n",
    "\n",
    "OPTIMIZATION_ITERATION_COUNT = 1000  # -\n",
    "MAX_VAPOR_INLET_PRESSURE = bar_to_pascal(100)  # Pa"
   ]
  },
  {
   "cell_type": "markdown",
   "metadata": {},
   "source": [
    "## Brayton Gas Cycle\n"
   ]
  },
  {
   "cell_type": "code",
   "execution_count": 417,
   "metadata": {},
   "outputs": [
    {
     "name": "stdout",
     "output_type": "stream",
     "text": [
      "BRAYTON CYCLE\n",
      "1 - Air: 1.00 bar, 30.00 C, 429.47 kJ/kg\n",
      "2 - Air: 25.00 bar, 573.80 C, 1001.22 kJ/kg\n",
      "3 - Air: 25.00 bar, 1000.00 C, 1492.34 kJ/kg\n",
      "4 - Air: 1.72 bar, 501.44 C, 920.59 kJ/kg\n",
      "5 - Air: 1.72 bar, 710.00 C, 1153.36 kJ/kg\n",
      "6 - Air: 1.00 bar, 602.06 C, 1031.68 kJ/kg\n",
      "\n",
      "\n",
      "Gas turbine specific work: 693.43 kJ/kg\n",
      "Gas compressor specific work: 571.75 kJ/kg\n",
      "Gas net specific work: 121.68 kJ/kg\n",
      "Gas specific heat in: 723.89 kJ/kg\n",
      "Gas thermal efficiency: 16.81 %\n",
      "Gas BWR: 82.45 %\n",
      "\n",
      "\n"
     ]
    }
   ],
   "source": [
    "state_1 = Fluid(FluidsList.Air).with_state(\n",
    "    Input.pressure(GAS_INLET_PRESSURE),\n",
    "    Input.temperature(GAS_INLET_TEMPERATURE),\n",
    ")\n",
    "\n",
    "state_2 = compress_to(\n",
    "    inlet_state=state_1,\n",
    "    efficiency=GAS_COMPRESSOR_EFFICIENCY,\n",
    "    compression_ratio=GAS_COMPRESSION_RATIO,\n",
    ")\n",
    "\n",
    "state_3 = heat_to_temperature(\n",
    "    inlet_state=state_2,\n",
    "    outlet_temperature=GAS_COMBUSTION_CHAMBER_1_TEMPERATURE,\n",
    ")\n",
    "\n",
    "energy_balance_compressor = energy_balance(state_1, state_2)\n",
    "state_4 = turbine_to_enthalpy(\n",
    "    inlet_state=state_3,\n",
    "    efficiency=GAS_TURBINE_C_EFFICIENCY,\n",
    "    energy_balance=energy_balance_compressor,\n",
    ")\n",
    "\n",
    "state_5 = heat_to_temperature(\n",
    "    inlet_state=state_4,\n",
    "    outlet_temperature=GAS_COMBUSTION_CHAMBER_2_TEMPERATURE,\n",
    ")\n",
    "\n",
    "state_6 = turbine_to_pressure(\n",
    "    inlet_state=state_5,\n",
    "    efficiency=GAS_TURBINE_P_EFFICIENCY,\n",
    "    outlet_pressure=GAS_INLET_PRESSURE,\n",
    ")\n",
    "\n",
    "gas_states = [state_1, state_2, state_3, state_4, state_5, state_6]\n",
    "\n",
    "gas_turbine_specific_work = energy_balance(gas_states[3], gas_states[2]) + energy_balance(gas_states[5], gas_states[4])\n",
    "gas_compressor_specific_work = energy_balance(gas_states[0], gas_states[1])\n",
    "gas_net_specific_work = (gas_turbine_specific_work - gas_compressor_specific_work)\n",
    "gas_specific_heat_in = energy_balance(gas_states[1], gas_states[2]) + energy_balance(gas_states[3], gas_states[4])\n",
    "\n",
    "gas_efficiency = gas_net_specific_work / gas_specific_heat_in\n",
    "gas_bwr = gas_compressor_specific_work / gas_turbine_specific_work\n",
    "\n",
    "print(\"BRAYTON CYCLE\")\n",
    "print_states(gas_states)\n",
    "\n",
    "\n",
    "print(\"\\n\")\n",
    "\n",
    "print(f\"Gas turbine specific work: {gas_turbine_specific_work * 1e-3:.2f} kJ/kg\")\n",
    "print(f\"Gas compressor specific work: {gas_compressor_specific_work * 1e-3:.2f} kJ/kg\")\n",
    "print(f\"Gas net specific work: {gas_net_specific_work * 1e-3:.2f} kJ/kg\")\n",
    "print(f\"Gas specific heat in: {gas_specific_heat_in * 1e-3:.2f} kJ/kg\")\n",
    "print(f\"Gas thermal efficiency: {gas_efficiency * 100:.2f} %\")\n",
    "print(f\"Gas BWR: {gas_bwr * 100:.2f} %\")\n",
    "\n",
    "print(\"\\n\")"
   ]
  },
  {
   "cell_type": "markdown",
   "metadata": {},
   "source": [
    "## Defining Rankine Cycle and Recovery Boiler simulation function"
   ]
  },
  {
   "cell_type": "code",
   "execution_count": 418,
   "metadata": {},
   "outputs": [],
   "source": [
    "def vapor_and_recovery_boiler_simulation(inlet_pressure: float) -> list:\n",
    "    # Solving the Rankine Cycle:\n",
    "    state_7 = Fluid(FluidsList.Water).with_state(\n",
    "        Input.pressure(inlet_pressure),\n",
    "        Input.temperature(VAPOR_DEAERATOR_TEMPERATURE),\n",
    "    )\n",
    "\n",
    "    state_1 = heat_to_temperature(\n",
    "        inlet_state=state_7,\n",
    "        outlet_temperature=gas_states[-1].temperature\n",
    "        - RECOVERY_BOILER_DELTA_TSA,\n",
    "    )\n",
    "\n",
    "    state_2 = turbine_to_pressure(\n",
    "        inlet_state=state_1,\n",
    "        efficiency=VAPOR_TURBINE_EFFICIENCY,\n",
    "        outlet_pressure=VAPOR_DEAERATOR_PRESSURE,\n",
    "    )\n",
    "\n",
    "    state_3 = turbine_to_pressure(\n",
    "        inlet_state=state_2,\n",
    "        efficiency=VAPOR_TURBINE_EFFICIENCY,\n",
    "        outlet_pressure=VAPOR_CONDENSER_PRESSURE,\n",
    "    )\n",
    "\n",
    "    state_4 = condense_to_pressure(\n",
    "        inlet_state=state_3,\n",
    "    )\n",
    "\n",
    "    state_5 = pump_to_pressure(\n",
    "        inlet_state=state_4,\n",
    "        efficiency=VAPOR_PUMP_EFFICIENCY,\n",
    "        outlet_pressure=VAPOR_DEAERATOR_PRESSURE,\n",
    "    )\n",
    "\n",
    "    state_6 = state_5.with_state(\n",
    "        Input.pressure(state_5.pressure),\n",
    "        Input.entropy(state_7.entropy),\n",
    "    )\n",
    "\n",
    "    vapor_states = [\n",
    "        state_1,\n",
    "        state_2,\n",
    "        state_3,\n",
    "        state_4,\n",
    "        state_5,\n",
    "        state_6,\n",
    "        state_7,\n",
    "    ]\n",
    "\n",
    "    y_mass_flow = energy_balance(state_6, state_5) / energy_balance(\n",
    "        state_2, state_5\n",
    "    )\n",
    "\n",
    "    vapor_turbine_specific_work = energy_balance(\n",
    "        vapor_states[1], vapor_states[0]\n",
    "    ) + (1 - y_mass_flow) * energy_balance(vapor_states[2], vapor_states[1])\n",
    "    vapor_pump_specific_work = (1 - y_mass_flow) * energy_balance(\n",
    "        vapor_states[3], vapor_states[4]\n",
    "    ) + energy_balance(vapor_states[5], vapor_states[6])\n",
    "    vapor_net_specific_work = (\n",
    "        vapor_turbine_specific_work - vapor_pump_specific_work\n",
    "    )\n",
    "    vapor_specific_heat_in = energy_balance(vapor_states[-1], vapor_states[0])\n",
    "\n",
    "    vapor_efficiency = vapor_net_specific_work / vapor_specific_heat_in\n",
    "\n",
    "    # Solving the Recovery Boiler:\n",
    "    gas_mass_flow = GAS_MASS_FLOW_PER_SYSTEM * NUMBER_OF_GAS_SYSTEMS\n",
    "\n",
    "    state_8_evaporator = Fluid(FluidsList.Water).two_phase_point_at_pressure(\n",
    "        pressure=vapor_states[0].pressure,\n",
    "        quality=0,\n",
    "    )\n",
    "\n",
    "    state_12 = Fluid(FluidsList.Water).two_phase_point_at_pressure(\n",
    "        pressure=vapor_states[0].pressure,\n",
    "        quality=100,\n",
    "    )\n",
    "\n",
    "    temperature_a = state_8_evaporator.temperature + RECOVERY_BOILER_DELTA_TP\n",
    "    state_a = Fluid(FluidsList.Air).with_state(\n",
    "        Input.pressure(gas_states[-1].pressure),\n",
    "        Input.temperature(temperature_a),\n",
    "    )\n",
    "\n",
    "    temperature_8_economizer = (\n",
    "        state_8_evaporator.temperature - RECOVERY_BOILER_DELTA_TE\n",
    "    )\n",
    "    state_8_economizer = Fluid(FluidsList.Water).with_state(\n",
    "        Input.pressure(vapor_states[0].pressure),\n",
    "        Input.temperature(temperature_8_economizer),\n",
    "    )\n",
    "\n",
    "    heat_evaporator_sup = (\n",
    "        energy_balance(state_a, gas_states[-1]) * gas_mass_flow\n",
    "    )\n",
    "\n",
    "    mass_flow_evaporator = heat_evaporator_sup / (\n",
    "        energy_balance(vapor_states[0], state_8_evaporator)\n",
    "    )\n",
    "\n",
    "    enthalpy_b = gas_states[\n",
    "        -1\n",
    "    ].enthalpy - mass_flow_evaporator / gas_mass_flow * (\n",
    "        energy_balance(state_8_economizer, vapor_states[-1])\n",
    "    )\n",
    "\n",
    "    state_b = state_a.with_state(\n",
    "        Input.enthalpy(enthalpy_b), Input.pressure(gas_states[-1].pressure)\n",
    "    )\n",
    "\n",
    "    outlet_gas_enthalpy = (\n",
    "        state_a.enthalpy\n",
    "        - mass_flow_evaporator\n",
    "        / gas_mass_flow\n",
    "        * (energy_balance(state_8_economizer, vapor_states[-1]))\n",
    "    )\n",
    "\n",
    "    outlet_gas_state = state_b.with_state(\n",
    "        Input.pressure(gas_states[-1].pressure),\n",
    "        Input.temperature(state_b.temperature),\n",
    "    )\n",
    "\n",
    "    state_ambient = Fluid(FluidsList.Air).with_state(\n",
    "        Input.pressure(AMBIENT_PRESSURE),\n",
    "        Input.temperature(AMBIENT_TEMPERATURE),\n",
    "    )\n",
    "\n",
    "    enthalpy_7_gas = state_a.enthalpy\n",
    "\n",
    "    gas_heat_superheater = mass_flow_evaporator * energy_balance(\n",
    "        state_8_evaporator, vapor_states[-1]\n",
    "    )\n",
    "    gas_heat_evaporator = mass_flow_evaporator * energy_balance(\n",
    "        state_b, state_a\n",
    "    )\n",
    "    gas_heat_economizer = mass_flow_evaporator * energy_balance(\n",
    "        state_a, outlet_gas_state\n",
    "    )\n",
    "\n",
    "    vapor_heat_evaporator = mass_flow_evaporator * energy_balance(\n",
    "        state_12, state_8_evaporator\n",
    "    )\n",
    "\n",
    "    boiler_efficiency = energy_balance(\n",
    "        gas_states[-1], outlet_gas_state\n",
    "    ) / energy_balance(gas_states[-1], state_ambient)\n",
    "\n",
    "    return vapor_efficiency, boiler_efficiency, vapor_states"
   ]
  },
  {
   "cell_type": "markdown",
   "metadata": {},
   "source": [
    "# Optimization of the Rankine Vapor Cycle and Recovery Boiler\n"
   ]
  },
  {
   "cell_type": "code",
   "execution_count": 419,
   "metadata": {},
   "outputs": [],
   "source": [
    "pressures = np.array([])\n",
    "system_efficiencies = np.array([])\n",
    "\n",
    "vapor_states_list = []\n",
    "gas_states_in_boiler_list = []\n",
    "boiler_states_list = []\n",
    "\n",
    "for _ in range(OPTIMIZATION_ITERATION_COUNT):\n",
    "    # for _ in range(1):\n",
    "    # Optimization variables:\n",
    "    inlet_pressure = get_random_value(\n",
    "        min_value=VAPOR_DEAERATOR_PRESSURE, max_value=MAX_VAPOR_INLET_PRESSURE\n",
    "    )\n",
    "\n",
    "    # inlet_pressure = bar_to_pascal(10)\n",
    "\n",
    "    # Solving the Rankine Cycle:\n",
    "    state_7 = Fluid(FluidsList.Water).with_state(\n",
    "        Input.pressure(inlet_pressure),\n",
    "        Input.temperature(VAPOR_DEAERATOR_TEMPERATURE),\n",
    "    )\n",
    "\n",
    "    state_1 = heat_to_temperature(\n",
    "        inlet_state=state_7,\n",
    "        outlet_temperature=gas_states[-1].temperature\n",
    "        - RECOVERY_BOILER_DELTA_TSA,\n",
    "    )\n",
    "\n",
    "    state_2 = turbine_to_pressure(\n",
    "        inlet_state=state_1,\n",
    "        efficiency=VAPOR_TURBINE_EFFICIENCY,\n",
    "        outlet_pressure=VAPOR_DEAERATOR_PRESSURE,\n",
    "    )\n",
    "\n",
    "    state_3 = turbine_to_pressure(\n",
    "        inlet_state=state_2,\n",
    "        efficiency=VAPOR_TURBINE_EFFICIENCY,\n",
    "        outlet_pressure=VAPOR_CONDENSER_PRESSURE,\n",
    "    )\n",
    "\n",
    "    state_4 = condense_to_pressure(\n",
    "        inlet_state=state_3,\n",
    "    )\n",
    "\n",
    "    state_5 = pump_to_pressure(\n",
    "        inlet_state=state_4,\n",
    "        efficiency=VAPOR_PUMP_EFFICIENCY,\n",
    "        outlet_pressure=VAPOR_DEAERATOR_PRESSURE,\n",
    "    )\n",
    "\n",
    "    state_6 = state_5.with_state(\n",
    "        Input.pressure(state_5.pressure),\n",
    "        Input.entropy(state_7.entropy),\n",
    "    )\n",
    "\n",
    "    vapor_states = [\n",
    "        state_1,\n",
    "        state_2,\n",
    "        state_3,\n",
    "        state_4,\n",
    "        state_5,\n",
    "        state_6,\n",
    "        state_7,\n",
    "    ]\n",
    "\n",
    "    y_mass_flow = energy_balance(state_6, state_5) / energy_balance(\n",
    "        state_2, state_5\n",
    "    )\n",
    "\n",
    "    vapor_turbine_specific_work = energy_balance(\n",
    "        vapor_states[1], vapor_states[0]\n",
    "    ) + (1 - y_mass_flow) * energy_balance(vapor_states[2], vapor_states[1])\n",
    "    vapor_pump_specific_work = (1 - y_mass_flow) * energy_balance(\n",
    "        vapor_states[3], vapor_states[4]\n",
    "    ) + energy_balance(vapor_states[5], vapor_states[6])\n",
    "    vapor_net_specific_work = (\n",
    "        vapor_turbine_specific_work - vapor_pump_specific_work\n",
    "    )\n",
    "    vapor_specific_heat_in = energy_balance(vapor_states[-1], vapor_states[0])\n",
    "\n",
    "    vapor_efficiency = vapor_net_specific_work / vapor_specific_heat_in\n",
    "\n",
    "    # Solving the Recovery Boiler:\n",
    "    gas_mass_flow = GAS_MASS_FLOW_PER_SYSTEM * NUMBER_OF_GAS_SYSTEMS\n",
    "\n",
    "    state_8_evaporator = Fluid(FluidsList.Water).two_phase_point_at_pressure(\n",
    "        pressure=vapor_states[0].pressure,\n",
    "        quality=0,\n",
    "    )\n",
    "\n",
    "    state_12 = Fluid(FluidsList.Water).two_phase_point_at_pressure(\n",
    "        pressure=vapor_states[0].pressure,\n",
    "        quality=100,\n",
    "    )\n",
    "\n",
    "    temperature_a = state_8_evaporator.temperature + RECOVERY_BOILER_DELTA_TP\n",
    "    state_a = Fluid(FluidsList.Air).with_state(\n",
    "        Input.pressure(gas_states[-1].pressure),\n",
    "        Input.temperature(temperature_a),\n",
    "    )\n",
    "\n",
    "    temperature_8_economizer = (\n",
    "        state_8_evaporator.temperature - RECOVERY_BOILER_DELTA_TE\n",
    "    )\n",
    "    state_8_economizer = Fluid(FluidsList.Water).with_state(\n",
    "        Input.pressure(vapor_states[0].pressure),\n",
    "        Input.temperature(temperature_8_economizer),\n",
    "    )\n",
    "\n",
    "    heat_evaporator_sup = (\n",
    "        energy_balance(state_a, gas_states[-1]) * gas_mass_flow\n",
    "    )\n",
    "\n",
    "    mass_flow_evaporator = heat_evaporator_sup / (\n",
    "        energy_balance(vapor_states[0], state_8_evaporator)\n",
    "    )\n",
    "\n",
    "    enthalpy_b = gas_states[\n",
    "        -1\n",
    "    ].enthalpy - mass_flow_evaporator / gas_mass_flow * (\n",
    "        energy_balance(state_8_economizer, vapor_states[-1])\n",
    "    )\n",
    "\n",
    "    state_b = state_a.with_state(\n",
    "        Input.enthalpy(enthalpy_b), Input.pressure(gas_states[-1].pressure)\n",
    "    )\n",
    "\n",
    "    outlet_gas_enthalpy = (\n",
    "        state_a.enthalpy\n",
    "        - mass_flow_evaporator\n",
    "        / gas_mass_flow\n",
    "        * (energy_balance(state_8_economizer, vapor_states[-1]))\n",
    "    )\n",
    "\n",
    "    outlet_gas_state = state_b.with_state(\n",
    "        Input.pressure(gas_states[-1].pressure),\n",
    "        Input.temperature(state_b.temperature),\n",
    "    )\n",
    "\n",
    "    state_ambient = Fluid(FluidsList.Air).with_state(\n",
    "        Input.pressure(AMBIENT_PRESSURE),\n",
    "        Input.temperature(AMBIENT_TEMPERATURE),\n",
    "    )\n",
    "\n",
    "    enthalpy_7_gas = state_a.enthalpy\n",
    "\n",
    "    gas_states_in_boiler = [\n",
    "        state_a,\n",
    "        state_b,\n",
    "        state_7,\n",
    "    ]\n",
    "\n",
    "    boiler_states = [\n",
    "        state_8_economizer,\n",
    "        state_8_evaporator,\n",
    "        state_12,\n",
    "    ]\n",
    "\n",
    "    gas_heat_superheater = mass_flow_evaporator * energy_balance(\n",
    "        state_8_evaporator, vapor_states[-1]\n",
    "    )\n",
    "    gas_heat_evaporator = mass_flow_evaporator * energy_balance(\n",
    "        state_b, state_a\n",
    "    )\n",
    "    gas_heat_economizer = mass_flow_evaporator * energy_balance(\n",
    "        state_a, outlet_gas_state\n",
    "    )\n",
    "\n",
    "    vapor_heat_evaporator = mass_flow_evaporator * energy_balance(\n",
    "        state_12, state_8_evaporator\n",
    "    )\n",
    "\n",
    "    boiler_efficiency = energy_balance(\n",
    "        gas_states[-1], outlet_gas_state\n",
    "    ) / energy_balance(gas_states[-1], state_ambient)\n",
    "\n",
    "    pressures = np.append(pressures, inlet_pressure)\n",
    "    vapor_states_list.append(vapor_states)\n",
    "    gas_states_in_boiler_list.append(gas_states_in_boiler)\n",
    "    boiler_states_list.append(boiler_states)\n",
    "    system_efficiencies = np.append(\n",
    "        system_efficiencies,\n",
    "        gas_efficiency\n",
    "        + vapor_efficiency * boiler_efficiency * (1 - gas_efficiency),\n",
    "    )"
   ]
  },
  {
   "cell_type": "markdown",
   "metadata": {},
   "source": [
    "## Processing the simulation data\n",
    "\n",
    "After running the simulation, the pressure and efficiency arrays are filtered so that the quality of the vapor state 3 is always higher than 92% - as specified in the requirements."
   ]
  },
  {
   "cell_type": "code",
   "execution_count": 420,
   "metadata": {},
   "outputs": [
    {
     "name": "stdout",
     "output_type": "stream",
     "text": [
      "Filtered 540 invalid states out of 1000.\n"
     ]
    }
   ],
   "source": [
    "valid_indices = np.array([], dtype=int)\n",
    "\n",
    "for i, states in enumerate(vapor_states_list):\n",
    "    state_3 = states[2]\n",
    "\n",
    "    if state_3.phase.name == \"TwoPhase\":\n",
    "        if state_3.quality >= VAPOR_STATE_3_QUALITY_LOWER_THRESHOLD * 100:\n",
    "            valid_indices = np.append(valid_indices, i)\n",
    "    elif state_3.phase.name == \"Gas\":\n",
    "        valid_indices = np.append(valid_indices, i)\n",
    "\n",
    "print(\n",
    "    f\"Filtered {len(vapor_states_list) - np.shape(valid_indices)[0]} invalid states out of {len(vapor_states_list)}.\"\n",
    ")\n",
    "\n",
    "# Use these indices to filter the pressures and system_efficiencies:\n",
    "pressures = pressures[valid_indices]\n",
    "system_efficiencies = system_efficiencies[valid_indices]\n",
    "\n",
    "vapor_states_list[:] = [vapor_states_list[i] for i in valid_indices]\n",
    "gas_states_in_boiler_list[:] = [gas_states_in_boiler_list[i] for i in valid_indices]\n",
    "boiler_states_list[:] = [boiler_states_list[i] for i in valid_indices]\n",
    "\n",
    "max_efficiency = np.max(system_efficiencies)\n",
    "max_efficiency_index = np.argmax(system_efficiencies)\n",
    "optimal_inlet_pressure = pressures[max_efficiency_index]\n",
    "optimal_vapor_states = vapor_states_list[max_efficiency_index]\n",
    "optimal_gas_states_in_boiler = gas_states_in_boiler_list[max_efficiency_index]\n",
    "optimal_boiler_states = boiler_states_list[max_efficiency_index]"
   ]
  },
  {
   "cell_type": "markdown",
   "metadata": {},
   "source": [
    "## Optimal Rankine Cycle and Boiler results"
   ]
  },
  {
   "cell_type": "code",
   "execution_count": 421,
   "metadata": {},
   "outputs": [
    {
     "name": "stdout",
     "output_type": "stream",
     "text": [
      "OPTIMAL RANKINE CYCLE\n",
      "1 - Water: 49.13 bar, 577.06 C, 3614.36 kJ/kg\n",
      "2 - Water: 5.00 bar, 266.99 C, 2996.29 kJ/kg\n",
      "3 - Water: 0.10 bar, 45.81 C, 2392.56 kJ/kg\n",
      "4 - Water: 0.10 bar, 45.81 C, 191.81 kJ/kg\n",
      "5 - Water: 5.00 bar, 45.82 C, 192.30 kJ/kg\n",
      "6 - Water: 5.00 bar, 119.63 C, 502.46 kJ/kg\n",
      "7 - Water: 49.13 bar, 120.00 C, 507.13 kJ/kg\n",
      "\n",
      "\n",
      "Y mass flow: 11.06 %\n",
      "Vapor turbine specific work: 1155.02 kJ/kg\n",
      "Vapor pump specific work: 310.60 kJ/kg\n",
      "Vapor net specific work: 844.42 kJ/kg\n",
      "Vapor specific heat in: 3107.23 kJ/kg\n",
      "Vapor thermal efficiency: 27.18 %\n",
      "BRAYTON CYCLE CONTINUATION\n",
      "a - Air: 1.00 bar, 272.84 C, 676.97 kJ/kg\n",
      "b - Air: 1.00 bar, 525.05 C, 946.43 kJ/kg\n",
      "7 - Water: 49.13 bar, 120.00 C, 507.13 kJ/kg\n",
      "\n",
      "RECOVERY BOILER\n",
      "8 econ - Water: 49.13 bar, 252.84 C, 1099.60 kJ/kg\n",
      "12 - Water: 49.13 bar, 262.84 C, 2794.92 kJ/kg\n",
      "8 evap - Water: 49.13 bar, 262.84 C, 1149.14 kJ/kg\n"
     ]
    }
   ],
   "source": [
    "optimal_vapor_state_1 = optimal_vapor_states[0]\n",
    "optimal_vapor_state_2 = optimal_vapor_states[1]\n",
    "optimal_vapor_state_3 = optimal_vapor_states[2]\n",
    "optimal_vapor_state_4 = optimal_vapor_states[3]\n",
    "optimal_vapor_state_5 = optimal_vapor_states[4]\n",
    "optimal_vapor_state_6 = optimal_vapor_states[5]\n",
    "optimal_vapor_state_7 = optimal_vapor_states[6]\n",
    "\n",
    "y_mass_flow = energy_balance(\n",
    "    optimal_vapor_state_6, optimal_vapor_state_5\n",
    ") / energy_balance(optimal_vapor_state_2, optimal_vapor_state_5)\n",
    "\n",
    "vapor_turbine_specific_work = energy_balance(\n",
    "    optimal_vapor_state_2, optimal_vapor_state_1\n",
    ") + (1 - y_mass_flow) * energy_balance(\n",
    "    optimal_vapor_state_3, optimal_vapor_state_2\n",
    ")\n",
    "vapor_pump_specific_work = (1 - y_mass_flow) * energy_balance(\n",
    "    optimal_vapor_state_4, optimal_vapor_state_5\n",
    ") + energy_balance(optimal_vapor_state_6, optimal_vapor_state_5)\n",
    "vapor_net_specific_work = (\n",
    "    vapor_turbine_specific_work - vapor_pump_specific_work\n",
    ")\n",
    "vapor_specific_heat_in = energy_balance(\n",
    "    optimal_vapor_state_7, optimal_vapor_state_1\n",
    ")\n",
    "\n",
    "vapor_efficiency = vapor_net_specific_work / vapor_specific_heat_in\n",
    "\n",
    "print(\"OPTIMAL RANKINE CYCLE\")\n",
    "print_states(optimal_vapor_states)\n",
    "\n",
    "print(\"\\n\")\n",
    "\n",
    "print(f\"Y mass flow: {y_mass_flow * 100:.2f} %\")\n",
    "print(\n",
    "    f\"Vapor turbine specific work: {vapor_turbine_specific_work * 1e-3:.2f} kJ/kg\"\n",
    ")\n",
    "print(f\"Vapor pump specific work: {vapor_pump_specific_work * 1e-3:.2f} kJ/kg\")\n",
    "print(f\"Vapor net specific work: {vapor_net_specific_work * 1e-3:.2f} kJ/kg\")\n",
    "print(f\"Vapor specific heat in: {vapor_specific_heat_in * 1e-3:.2f} kJ/kg\")\n",
    "print(f\"Vapor thermal efficiency: {vapor_efficiency * 100:.2f} %\")\n",
    "\n",
    "optimal_gas_state_in_boiler_a = optimal_gas_states_in_boiler[0]\n",
    "optimal_gas_state_in_boiler_b = optimal_gas_states_in_boiler[1]\n",
    "optimal_gas_state_in_boiler_7 = optimal_gas_states_in_boiler[2]\n",
    "\n",
    "print(\"\\nBRAYTON CYCLE CONTINUATION\")\n",
    "print(\n",
    "    f\"a - {optimal_gas_state_in_boiler_a.name}: {optimal_gas_state_in_boiler_a.pressure * 1e-5:.2f} bar,\"\n",
    "    f\" {optimal_gas_state_in_boiler_a.temperature:.2f} C, {optimal_gas_state_in_boiler_a.enthalpy * 1e-3:.2f} kJ/kg\"\n",
    ")\n",
    "print(\n",
    "    f\"b - {optimal_gas_state_in_boiler_b.name}: {optimal_gas_state_in_boiler_b.pressure * 1e-5:.2f} bar,\"\n",
    "    f\" {optimal_gas_state_in_boiler_b.temperature:.2f} C, {optimal_gas_state_in_boiler_b.enthalpy * 1e-3:.2f} kJ/kg\"\n",
    ")\n",
    "print(\n",
    "    f\"7 - {optimal_gas_state_in_boiler_7.name}: {optimal_gas_state_in_boiler_7.pressure * 1e-5:.2f} bar,\"\n",
    "    f\" {optimal_gas_state_in_boiler_7.temperature:.2f} C, {optimal_gas_state_in_boiler_7.enthalpy * 1e-3:.2f} kJ/kg\"\n",
    ")\n",
    "\n",
    "optimal_boiler_state_8_economizer = optimal_boiler_states[0]\n",
    "optimal_boiler_state_8_evaporator = optimal_boiler_states[1]\n",
    "optimal_boiler_state_12 = optimal_boiler_states[2]\n",
    "\n",
    "print(\"\\nRECOVERY BOILER\")\n",
    "print(\n",
    "    f\"8 econ - {optimal_boiler_state_8_economizer.name}: {optimal_boiler_state_8_economizer.pressure * 1e-5:.2f} bar,\"\n",
    "    f\" {optimal_boiler_state_8_economizer.temperature:.2f} C, {optimal_boiler_state_8_economizer.enthalpy * 1e-3:.2f} kJ/kg\"\n",
    ")\n",
    "print(\n",
    "    f\"12 - {optimal_boiler_state_12.name}: {optimal_boiler_state_12.pressure * 1e-5:.2f} bar,\"\n",
    "    f\" {optimal_boiler_state_12.temperature:.2f} C, {optimal_boiler_state_12.enthalpy * 1e-3:.2f} kJ/kg\"\n",
    ")\n",
    "print(\n",
    "    f\"8 evap - {optimal_boiler_state_8_evaporator.name}: {optimal_boiler_state_8_evaporator.pressure * 1e-5:.2f} bar,\"\n",
    "    f\" {optimal_boiler_state_8_evaporator.temperature:.2f} C, {optimal_boiler_state_8_evaporator.enthalpy * 1e-3:.2f} kJ/kg\"\n",
    ")"
   ]
  },
  {
   "cell_type": "markdown",
   "metadata": {},
   "source": [
    "# Plotting Monte Carlo results"
   ]
  },
  {
   "cell_type": "code",
   "execution_count": 422,
   "metadata": {},
   "outputs": [
    {
     "name": "stdout",
     "output_type": "stream",
     "text": [
      "Max efficiency: 21.17 %\n",
      "Vapor inlet pressure for max efficiency: 49.13 bar\n"
     ]
    },
    {
     "data": {
      "application/vnd.plotly.v1+json": {
       "config": {
        "plotlyServerURL": "https://plot.ly"
       },
       "data": [
        {
         "mode": "markers",
         "type": "scatter",
         "x": [
          45.78252385485964,
          13.631068918970135,
          23.648676774546978,
          16.555157222556545,
          19.599824201429463,
          46.52625941794108,
          34.93816639489295,
          41.501780874261044,
          27.971882881903248,
          48.09252824196318,
          20.211617485759728,
          20.83202845970649,
          31.888768507805736,
          47.20683170229924,
          39.2946815596597,
          6.087349013183762,
          39.199421628545025,
          18.76041735198434,
          6.490710530228469,
          43.336671514634446,
          8.764346671435089,
          10.40415983133569,
          33.684750310160446,
          22.275701590293256,
          10.211332917093937,
          13.73561402761459,
          42.72705942666513,
          18.43955598776593,
          34.87019397363324,
          19.6602978997765,
          39.60798689510243,
          8.461707429359308,
          30.392253675499312,
          15.449599626235798,
          29.254627571913513,
          5.1923797855727285,
          19.123064631026214,
          8.781324738845017,
          6.858026919466147,
          23.823849383927573,
          39.80149812921354,
          34.222092776848,
          44.5650106952329,
          13.771020361944213,
          25.77039316945877,
          28.990096424245223,
          20.40391783489687,
          25.222345679449905,
          7.490946969862397,
          20.221793934370616,
          22.28180649414951,
          10.503433204380446,
          25.854960060196145,
          10.504893120470777,
          20.00121027906413,
          27.078252360859203,
          17.380374960384856,
          8.415604031595164,
          38.08547251732785,
          16.548338805290715,
          11.984063255277448,
          11.507122663351335,
          10.392234129054959,
          30.04842544345801,
          22.20442600322365,
          14.488805743202068,
          6.90280784341394,
          38.68945644376724,
          17.978409170628165,
          16.09672587262439,
          15.123159135476527,
          15.18267200103143,
          13.557686772441226,
          48.821938175210505,
          34.82720685800982,
          41.80932766159419,
          30.4202457051574,
          19.502276986307958,
          33.39687840544375,
          44.121136052498706,
          24.624647494942202,
          34.32765529854627,
          32.51161350283477,
          47.63832415033483,
          15.67829058327856,
          37.040117536446054,
          11.325532671660115,
          27.513502928254454,
          39.60943521454765,
          13.180931859357063,
          42.648355138916784,
          11.50434669204364,
          41.58733504697371,
          31.837026494277417,
          28.55713405620277,
          22.466485193835002,
          9.914298300698722,
          39.09858028939048,
          39.50406548712847,
          16.713259062970927,
          7.563973745695851,
          37.784811950763725,
          6.704652352803592,
          11.85669144191963,
          37.32860477221795,
          30.6816818694435,
          45.11578574870862,
          36.310301320711666,
          6.205598744202457,
          26.043423815118196,
          27.004953753086756,
          15.214289713709425,
          47.893547494395634,
          44.10305973383144,
          14.227943367294804,
          44.20246508239841,
          23.435421021736758,
          47.529346816549825,
          18.387429885739532,
          33.80112032829939,
          31.068573105402674,
          22.549815144673342,
          6.572324397456622,
          22.2998029092553,
          39.03809459669902,
          48.46789402130872,
          28.199469732338603,
          9.59183235440614,
          19.522281123712887,
          44.29530147932221,
          33.57786699329307,
          20.51671815353031,
          18.59042995783208,
          39.79914196855944,
          47.86415274579727,
          29.971798890954187,
          28.212101880384065,
          35.32336299531748,
          49.113202368441435,
          22.979100762135374,
          27.601062788578258,
          7.961566222997561,
          40.662493119800914,
          5.115976839033813,
          45.359352447883694,
          43.96961261770816,
          26.500579466427947,
          15.598027887971734,
          9.509127637310568,
          11.371609847174804,
          48.68030065318183,
          13.924372004005187,
          20.495737503605557,
          48.13490954210903,
          16.477096432389455,
          36.15373270693799,
          44.14018383122287,
          15.13058627816727,
          35.70119511065856,
          37.20318496087297,
          29.600671593092446,
          31.11212907713999,
          22.382323030006994,
          18.87411763124498,
          14.42978421490485,
          46.64704064704504,
          48.69590999225826,
          23.374443314157762,
          36.795743194793474,
          7.59001505897948,
          38.6880146545435,
          29.97268867732893,
          42.90963151396904,
          39.031461216462034,
          6.451376552371816,
          26.40860780219219,
          17.53912721699935,
          5.347039192198839,
          7.791523273163489,
          48.821980446232075,
          18.6451807934508,
          26.305107037389423,
          12.615652859943456,
          37.392292907965725,
          40.48105858233009,
          9.15206860031778,
          39.82064742053549,
          48.864809855198686,
          14.31419811781449,
          33.58651459403239,
          48.987192785681856,
          41.87874861750121,
          16.26904042684168,
          5.933734822050895,
          18.177957887145638,
          21.533744142302684,
          38.58811397478822,
          23.589209505357925,
          42.345406025780065,
          8.973021554285113,
          35.92086904573436,
          42.24593687923068,
          14.438702456279817,
          30.561952333645355,
          45.88569044815444,
          16.611508366883367,
          40.049558393472914,
          47.700925206128375,
          40.382016607928605,
          16.178437787115165,
          25.31674098892114,
          10.201037520166642,
          36.701341014483155,
          18.798688630941516,
          45.28239004252456,
          6.048336982050854,
          33.40553724050177,
          14.472970684519996,
          17.633740242704086,
          16.808195165149417,
          24.238835584610236,
          38.49562834006389,
          37.20929726345886,
          13.775875014621981,
          8.606220585058773,
          21.004236202558797,
          40.86225970883544,
          12.945921850257385,
          13.015500312902148,
          18.549404018609206,
          14.18359269080435,
          16.28842363353971,
          20.967362777865297,
          34.88500360715061,
          11.940153448348765,
          42.71223614962911,
          12.84464357281845,
          16.346835084363295,
          33.46059541181878,
          48.4760476545153,
          36.14897809052475,
          10.068912296459859,
          46.25032638267249,
          34.39692944618071,
          28.383169428258356,
          17.106386833056334,
          17.271889101741152,
          20.179211831234614,
          12.388685719597914,
          32.89807660713551,
          39.574627133414175,
          26.693321471098926,
          24.185619872969436,
          30.972566737346483,
          25.351783898898113,
          22.82665524247213,
          17.741617466837337,
          39.17239048391329,
          23.136402329864875,
          42.97956384012267,
          41.89030620428494,
          47.48124410368991,
          35.16749153330449,
          48.26508957653865,
          29.05144086184067,
          28.266818155189004,
          29.739172435426767,
          39.13986283226608,
          7.524332279973449,
          46.95169672777693,
          13.307077003332353,
          17.104442858540317,
          29.802944150728212,
          9.677225990219487,
          40.951731038763896,
          32.53702297559971,
          22.223139058832178,
          25.114545510382783,
          16.217169830186467,
          19.20032618813582,
          34.57253530728125,
          14.474829603584302,
          11.442095225640628,
          15.447968394644574,
          7.705411267321537,
          19.201056018243403,
          44.66986472381994,
          9.736559455770571,
          6.046062280150125,
          6.659844289940225,
          26.67936205059262,
          43.71653237933276,
          42.043069462093925,
          22.74537385858658,
          24.16577883151202,
          24.93581528996926,
          24.126336436471693,
          23.561043165006897,
          42.28460108944691,
          28.357326823824277,
          11.222778416035581,
          17.12342808537726,
          15.880961981176261,
          42.9638142851325,
          33.543987082602044,
          44.33114904882913,
          46.368595526054484,
          33.354995516574164,
          33.54035973956619,
          40.61048301794393,
          34.769404502390806,
          29.98516518091822,
          42.204272626586544,
          24.653238837810495,
          16.720679578047395,
          12.600976542897108,
          38.855839827898215,
          12.724771669958098,
          28.45365313060439,
          18.055786078890154,
          37.345005608732706,
          19.707994490481127,
          5.4932231298157745,
          32.13730038346993,
          18.674165438253,
          32.83700471147688,
          41.633472678014066,
          42.215498385705736,
          23.5772534541672,
          9.51401944633573,
          11.337791727244593,
          6.3478500889160205,
          11.647953067010436,
          36.55181748537997,
          6.247917740639376,
          26.014327944507258,
          14.953941928666364,
          41.15121706685539,
          25.220282528898856,
          27.957435014047196,
          48.745258915237464,
          47.9162406891506,
          43.01748079282653,
          34.28567712445139,
          22.4636141843786,
          35.92692869466646,
          13.67569376150894,
          13.823244977632845,
          44.71545309088273,
          43.82731239256516,
          25.141365177335413,
          6.921019690792557,
          35.48937129724681,
          37.78498523192393,
          17.116367720809055,
          24.699671686137496,
          9.671020921697549,
          46.78680520044785,
          9.723010624475895,
          38.58608605349108,
          46.141035417964815,
          40.62524221383137,
          44.28576785724104,
          12.304929705236596,
          34.532580875668025,
          37.202591008771265,
          16.39374244850648,
          37.65916268603173,
          21.375610674622376,
          7.918585820032775,
          10.970676479994552,
          40.13516727708771,
          11.072582711387215,
          10.102022017999454,
          23.81661623025528,
          42.32337971260015,
          25.338289942571897,
          21.623806575906453,
          40.79267045764044,
          7.622497383901661,
          11.257114444759154,
          47.06752957561989,
          37.36269247719642,
          5.9468531411476855,
          47.47092222103483,
          32.03231848597316,
          25.697735064937167,
          35.337219928393864,
          27.290028567620766,
          45.109499679587984,
          7.5535044985665385,
          41.0551453984485,
          39.91337587819857,
          9.998566562151273,
          22.457718051465815,
          43.60793049452133,
          42.14405313411545,
          7.005849032332495,
          21.94167390992499,
          28.137390418106687,
          22.76707982391576,
          22.245254427452743,
          18.615807655989705,
          40.43399512057717,
          13.838297927512688,
          46.15018544810742,
          13.314806290229765,
          9.143845794237839,
          9.267420831578082,
          28.70487738404295,
          26.309006141142472,
          37.79424174358557,
          26.373685711179963,
          23.347304152189334,
          23.667196165809855,
          43.3183695523721,
          20.715625911617224,
          21.309871467594725,
          34.03220185158184,
          20.02431445075979,
          19.308600136141617,
          48.4993059175425,
          14.151010908288068,
          22.068123562908216,
          21.811911025724076,
          23.96738010971199,
          48.96820352808764,
          15.840738535847475,
          38.46462454417037,
          45.16176542235344,
          38.32424187066764,
          22.395932194585217,
          45.33367294519145,
          43.070490347371155,
          31.339694867875004,
          29.69914976855352,
          40.941642167471414,
          45.02457729404471,
          25.654066329861777,
          36.507426991561914,
          47.468340389958165,
          7.697395938680952,
          11.620737386942208,
          44.06122710511519,
          40.76207886416739,
          48.777883096515836,
          34.95036032722352,
          45.93111798561897,
          41.76021959201503,
          33.58762372606811,
          5.78294246288854,
          27.676680948103918,
          24.83919971317142,
          38.88262123888048,
          32.867601708990684,
          34.89729805464485,
          7.865674242272567,
          11.3470148583861,
          49.126888325896516,
          36.361383302116536
         ],
         "y": [
          20.993769515715428,
          18.61844640782455,
          19.569502973872403,
          18.93190433656999,
          19.22335263037545,
          21.033066656811535,
          20.368983280210795,
          20.759533942541385,
          19.899623581966768,
          21.114582534556437,
          19.278397654391423,
          19.333150402685785,
          20.171626662231752,
          21.06868995003244,
          20.632848962291924,
          17.549279304379407,
          20.627281897432965,
          19.14603074230611,
          17.62168162826453,
          20.8616885574528,
          17.98862492545011,
          18.220043202765147,
          20.289241217080928,
          19.456670511778114,
          18.194005274793383,
          18.630336440849888,
          20.8280531755728,
          19.11589800186466,
          20.364705842103113,
          19.228841658799407,
          20.651099249366116,
          17.943208877884288,
          20.070361092956585,
          18.817778923012856,
          19.99123446004243,
          17.378654607280495,
          19.179698713775693,
          17.99114563065706,
          17.685438293656105,
          19.583595925271283,
          20.66232622857762,
          20.323653426284626,
          20.92858150430773,
          18.63435060668602,
          19.73593465729599,
          19.97255512554522,
          19.29548118795178,
          19.693808207562277,
          17.79087938388269,
          19.279304281886887,
          19.457181880079087,
          18.23333629725129,
          19.742383956270018,
          18.23353122524218,
          19.259587162817393,
          19.834206639788228,
          19.014017343419297,
          17.936208270868008,
          20.5615412578714,
          18.931215306059876,
          18.423249200363074,
          18.363701049891855,
          18.218441223459887,
          20.046648476689796,
          19.45069361092689,
          18.71439246681326,
          17.693076527667973,
          20.59733366743747,
          19.072006290257168,
          18.885176611033362,
          18.783111915498516,
          18.789466441691264,
          18.610067013222253,
          21.151991331797092,
          20.361997977040478,
          20.776849605228715,
          20.07228406262898,
          19.214475920565608,
          20.270661975319655,
          20.90454226886551,
          19.647194288186032,
          20.33037343959262,
          20.212881392049148,
          21.091112967722445,
          18.841794514646992,
          20.498738428774153,
          18.34063693496129,
          19.866237870014565,
          20.651183404427783,
          18.566600895003443,
          20.82368897470592,
          18.363350127873655,
          20.76435887303696,
          20.16817649972859,
          19.941746330034743,
          19.472609282575572,
          18.15331771879884,
          20.621379386655533,
          20.645055817031345,
          18.947831645421424,
          17.802716402006816,
          20.543590663184233,
          17.659058719509428,
          18.407488884931173,
          20.516180624867303,
          20.090189755926605,
          20.958205397479233,
          20.454226744757214,
          17.57077504169153,
          19.75670844861751,
          19.828780149325446,
          18.7928361485251,
          21.10431756213385,
          20.90356013259094,
          18.685592575755283,
          20.90895802122497,
          19.552256109025613,
          21.085461594030015,
          19.11097158939797,
          20.2967231188625,
          20.116510351150975,
          19.479543961580504,
          17.636021330772532,
          19.458688805022625,
          20.617834410210367,
          21.133876521813587,
          19.91607007846835,
          18.108321034621806,
          19.21629856422711,
          20.913992424341085,
          20.282354782860164,
          19.305454674837048,
          19.130107729942072,
          20.66218973682219,
          21.102798947287003,
          20.041340277086032,
          19.91698045223158,
          20.393124291603815,
          21.166834161559482,
          19.515012947501386,
          19.872642489952256,
          17.866052887935002,
          20.711868445930183,
          17.36338881695878,
          20.97123466958799,
          20.89630185947224,
          19.791182659756824,
          18.833390868708367,
          18.096637142671696,
          18.34651028910821,
          21.144754017718785,
          18.651663704161596,
          19.3036022608435,
          21.11676554198569,
          18.924005307013008,
          20.444604113108703,
          20.90557691777539,
          18.783905801295138,
          20.41664235866376,
          20.508608117304643,
          20.015507755618028,
          20.119460405554552,
          19.465588718017003,
          19.156630492987244,
          18.707904589671802,
          21.039411934687866,
          21.14555224257214,
          19.54730622529039,
          20.483896151224272,
          17.806921832220503,
          20.59724864624732,
          20.04140196543331,
          20.838157701731156,
          20.61744542778461,
          17.614734222122138,
          19.78427772617221,
          19.029531650587685,
          17.409202242939624,
          17.83919045624056,
          21.151993489829973,
          19.13524632597179,
          19.77648885026647,
          18.499932077089056,
          20.520019799443705,
          20.701483605111896,
          18.045496691843272,
          20.6634353540464,
          21.154179446094233,
          18.69515119334106,
          20.282912460116755,
          21.16041929530833,
          20.78074718316412,
          18.902836963908378,
          17.521007689289576,
          19.091085250871455,
          19.393845820063902,
          20.591352722654193,
          19.564703608440265,
          20.806843343335885,
          18.019411950752286,
          20.430243570703876,
          20.801295962786938,
          18.70888596952383,
          20.082001627091106,
          20.999243912094865,
          18.937592074957312,
          20.676668051833698,
          21.0943557764036,
          20.69580240672622,
          18.893565835492353,
          19.701105373898336,
          18.19260686370728,
          20.47814589582256,
          19.149603112087206,
          20.96712234156528,
          17.542136976620135,
          20.271222296585364,
          18.712653423193146,
          19.03873592498022,
          18.95735028842735,
          19.616720843417724,
          20.58588585642277,
          20.508977534469917,
          18.634900503405703,
          17.965010841658486,
          19.348164360278368,
          20.723269095065444,
          18.53910063992434,
          18.54727417556284,
          19.126251013972603,
          18.68066375780824,
          18.9048162034912,
          19.344956135444598,
          20.365638247726288,
          18.417827559539308,
          20.827231598120775,
          18.52715506008677,
          18.91077176898878,
          20.274783005855387,
          21.13429461037675,
          20.44431148493566,
          18.17458552196983,
          21.01853239526335,
          20.334776248423044,
          19.929283423740333,
          18.987030756664655,
          19.003364138452277,
          19.275508682052937,
          18.472650366721215,
          20.23822698970781,
          20.649160335278133,
          19.805603658841072,
          19.612493379896765,
          20.10999850683031,
          19.703809925001963,
          19.502466071042683,
          19.049192785263532,
          20.625700629272963,
          19.527904070957504,
          20.842021056468504,
          20.781395682423128,
          21.082964551501064,
          20.383375710255418,
          21.12346363072915,
          19.97689649010532,
          19.92092074515444,
          20.025172204730364,
          20.623796917742073,
          17.79629891580538,
          21.05537249761056,
          18.581238204128155,
          18.986838318342368,
          20.029612483438346,
          18.120322674658233,
          20.72836391193822,
          20.21455369839331,
          19.452263996695137,
          19.68545345059824,
          18.897533143063512,
          19.186819416700263,
          20.345911973645467,
          18.712857635074275,
          18.355467195009165,
          18.817606829516833,
          17.825459544914658,
          19.18688659407628,
          20.934238519967963,
          18.128624947441292,
          17.541719740757404,
          17.651287112929865,
          19.804561448129814,
          20.88249909946222,
          20.789956811247272,
          19.495754478793753,
          19.61091568752735,
          19.671550910109012,
          19.60777690822345,
          19.562427725657113,
          20.80345322558934,
          19.92742789400547,
          18.327487012934004,
          18.98871712082817,
          18.862895904809637,
          20.841151326013364,
          20.280169013964535,
          20.915934646692026,
          21.024768505847334,
          20.267950391290974,
          20.279934912174514,
          20.70889449227924,
          20.358353522349187,
          20.04226683090654,
          20.798969936495944,
          19.649440431590726,
          18.94857687184815,
          18.498177064810164,
          20.60713182023035,
          18.51294171914059,
          19.93433876497886,
          19.07942008809235,
          20.51716967578817,
          19.23316341489639,
          17.437651160428125,
          20.188149337725473,
          19.137962804149968,
          20.234234320081512,
          20.76695829015258,
          20.79959678734934,
          19.56373775304156,
          18.097329880987132,
          18.342200973698457,
          17.596334074279373,
          18.38143731091032,
          20.46901892654842,
          17.57841256504446,
          19.754501296782962,
          18.76495831523525,
          20.739698365407776,
          19.693648522720064,
          19.898576633483323,
          21.14807480655577,
          21.105489566794784,
          20.844114115125834,
          20.327702719467496,
          19.472370067145924,
          20.430618009969553,
          18.623528484423552,
          18.640259943726193,
          20.936695514487923,
          20.888547014056037,
          19.687534169505476,
          17.696174761155653,
          20.403476950562304,
          20.5436010346021,
          18.988018570764634,
          19.653084672003008,
          18.119452693272393,
          21.04674194036358,
          18.126731755676722,
          20.591232939754082,
          21.01276097142696,
          20.709738669666386,
          20.913475728749003,
          18.462505896735745,
          20.343381493530334,
          20.508572217809427,
          18.915544764890278,
          20.536062258894418,
          19.380278827268103,
          17.859294237859245,
          18.294914404494953,
          20.681604681153644,
          18.30813474061071,
          18.179114676551986,
          19.583015314284708,
          20.805615638794237,
          19.70276876731937,
          19.401544419386173,
          20.71930161101544,
          17.81215598951639,
          18.331889186485448,
          21.06142418228225,
          20.518235973808554,
          17.523437614480045,
          21.082428534428743,
          20.181179977131368,
          19.73038276198531,
          20.39398961852118,
          19.849832522242064,
          20.957868559113216,
          17.801023406661113,
          20.734244034209944,
          20.668801454777235,
          18.164933350844603,
          19.471878734356675,
          20.876560869557284,
          20.795605482198273,
          17.71054462115209,
          19.428554226437225,
          19.911592360427324,
          19.497548282562466,
          19.454118818237923,
          19.13249071875714,
          20.698785059453556,
          18.64196066535435,
          21.01324448711409,
          18.58213230152451,
          18.044305306649548,
          18.062144209476326,
          19.95229275153268,
          19.776782628641037,
          20.54415502214254,
          19.781651870061225,
          19.545100550810183,
          19.570996029620815,
          20.860683038717653,
          19.322957178381873,
          19.374620003008147,
          20.31153196492029,
          19.26165879194298,
          19.1967679330157,
          21.135486973955306,
          18.677036781132337,
          19.439229741034158,
          19.41755825523588,
          19.59509409529718,
          21.159451725521794,
          18.85872140454266,
          20.5840513598947,
          20.960668333652247,
          20.575733245621286,
          19.466725092044236,
          20.9698630165976,
          20.847038382261466,
          20.134830870368297,
          20.02238241679981,
          20.72778976387488,
          20.953315160724262,
          19.727041160585497,
          20.46630477639333,
          21.082294448370835,
          17.824177041313167,
          18.378019898909585,
          20.901286294398187,
          20.717556156826085,
          21.149741600534277,
          20.369750074527392,
          21.00165206187232,
          20.77409003893144,
          20.28298398060941,
          17.49286280521574,
          19.878163201949853,
          19.66400918746759,
          20.608706485558574,
          20.23623523552098,
          20.36641210822891,
          17.850945097631758,
          18.343377010237752,
          21.167530280763643,
          20.457360543780897
         ]
        }
       ],
       "layout": {
        "template": {
         "data": {
          "bar": [
           {
            "error_x": {
             "color": "#2a3f5f"
            },
            "error_y": {
             "color": "#2a3f5f"
            },
            "marker": {
             "line": {
              "color": "#E5ECF6",
              "width": 0.5
             },
             "pattern": {
              "fillmode": "overlay",
              "size": 10,
              "solidity": 0.2
             }
            },
            "type": "bar"
           }
          ],
          "barpolar": [
           {
            "marker": {
             "line": {
              "color": "#E5ECF6",
              "width": 0.5
             },
             "pattern": {
              "fillmode": "overlay",
              "size": 10,
              "solidity": 0.2
             }
            },
            "type": "barpolar"
           }
          ],
          "carpet": [
           {
            "aaxis": {
             "endlinecolor": "#2a3f5f",
             "gridcolor": "white",
             "linecolor": "white",
             "minorgridcolor": "white",
             "startlinecolor": "#2a3f5f"
            },
            "baxis": {
             "endlinecolor": "#2a3f5f",
             "gridcolor": "white",
             "linecolor": "white",
             "minorgridcolor": "white",
             "startlinecolor": "#2a3f5f"
            },
            "type": "carpet"
           }
          ],
          "choropleth": [
           {
            "colorbar": {
             "outlinewidth": 0,
             "ticks": ""
            },
            "type": "choropleth"
           }
          ],
          "contour": [
           {
            "colorbar": {
             "outlinewidth": 0,
             "ticks": ""
            },
            "colorscale": [
             [
              0,
              "#0d0887"
             ],
             [
              0.1111111111111111,
              "#46039f"
             ],
             [
              0.2222222222222222,
              "#7201a8"
             ],
             [
              0.3333333333333333,
              "#9c179e"
             ],
             [
              0.4444444444444444,
              "#bd3786"
             ],
             [
              0.5555555555555556,
              "#d8576b"
             ],
             [
              0.6666666666666666,
              "#ed7953"
             ],
             [
              0.7777777777777778,
              "#fb9f3a"
             ],
             [
              0.8888888888888888,
              "#fdca26"
             ],
             [
              1,
              "#f0f921"
             ]
            ],
            "type": "contour"
           }
          ],
          "contourcarpet": [
           {
            "colorbar": {
             "outlinewidth": 0,
             "ticks": ""
            },
            "type": "contourcarpet"
           }
          ],
          "heatmap": [
           {
            "colorbar": {
             "outlinewidth": 0,
             "ticks": ""
            },
            "colorscale": [
             [
              0,
              "#0d0887"
             ],
             [
              0.1111111111111111,
              "#46039f"
             ],
             [
              0.2222222222222222,
              "#7201a8"
             ],
             [
              0.3333333333333333,
              "#9c179e"
             ],
             [
              0.4444444444444444,
              "#bd3786"
             ],
             [
              0.5555555555555556,
              "#d8576b"
             ],
             [
              0.6666666666666666,
              "#ed7953"
             ],
             [
              0.7777777777777778,
              "#fb9f3a"
             ],
             [
              0.8888888888888888,
              "#fdca26"
             ],
             [
              1,
              "#f0f921"
             ]
            ],
            "type": "heatmap"
           }
          ],
          "heatmapgl": [
           {
            "colorbar": {
             "outlinewidth": 0,
             "ticks": ""
            },
            "colorscale": [
             [
              0,
              "#0d0887"
             ],
             [
              0.1111111111111111,
              "#46039f"
             ],
             [
              0.2222222222222222,
              "#7201a8"
             ],
             [
              0.3333333333333333,
              "#9c179e"
             ],
             [
              0.4444444444444444,
              "#bd3786"
             ],
             [
              0.5555555555555556,
              "#d8576b"
             ],
             [
              0.6666666666666666,
              "#ed7953"
             ],
             [
              0.7777777777777778,
              "#fb9f3a"
             ],
             [
              0.8888888888888888,
              "#fdca26"
             ],
             [
              1,
              "#f0f921"
             ]
            ],
            "type": "heatmapgl"
           }
          ],
          "histogram": [
           {
            "marker": {
             "pattern": {
              "fillmode": "overlay",
              "size": 10,
              "solidity": 0.2
             }
            },
            "type": "histogram"
           }
          ],
          "histogram2d": [
           {
            "colorbar": {
             "outlinewidth": 0,
             "ticks": ""
            },
            "colorscale": [
             [
              0,
              "#0d0887"
             ],
             [
              0.1111111111111111,
              "#46039f"
             ],
             [
              0.2222222222222222,
              "#7201a8"
             ],
             [
              0.3333333333333333,
              "#9c179e"
             ],
             [
              0.4444444444444444,
              "#bd3786"
             ],
             [
              0.5555555555555556,
              "#d8576b"
             ],
             [
              0.6666666666666666,
              "#ed7953"
             ],
             [
              0.7777777777777778,
              "#fb9f3a"
             ],
             [
              0.8888888888888888,
              "#fdca26"
             ],
             [
              1,
              "#f0f921"
             ]
            ],
            "type": "histogram2d"
           }
          ],
          "histogram2dcontour": [
           {
            "colorbar": {
             "outlinewidth": 0,
             "ticks": ""
            },
            "colorscale": [
             [
              0,
              "#0d0887"
             ],
             [
              0.1111111111111111,
              "#46039f"
             ],
             [
              0.2222222222222222,
              "#7201a8"
             ],
             [
              0.3333333333333333,
              "#9c179e"
             ],
             [
              0.4444444444444444,
              "#bd3786"
             ],
             [
              0.5555555555555556,
              "#d8576b"
             ],
             [
              0.6666666666666666,
              "#ed7953"
             ],
             [
              0.7777777777777778,
              "#fb9f3a"
             ],
             [
              0.8888888888888888,
              "#fdca26"
             ],
             [
              1,
              "#f0f921"
             ]
            ],
            "type": "histogram2dcontour"
           }
          ],
          "mesh3d": [
           {
            "colorbar": {
             "outlinewidth": 0,
             "ticks": ""
            },
            "type": "mesh3d"
           }
          ],
          "parcoords": [
           {
            "line": {
             "colorbar": {
              "outlinewidth": 0,
              "ticks": ""
             }
            },
            "type": "parcoords"
           }
          ],
          "pie": [
           {
            "automargin": true,
            "type": "pie"
           }
          ],
          "scatter": [
           {
            "fillpattern": {
             "fillmode": "overlay",
             "size": 10,
             "solidity": 0.2
            },
            "type": "scatter"
           }
          ],
          "scatter3d": [
           {
            "line": {
             "colorbar": {
              "outlinewidth": 0,
              "ticks": ""
             }
            },
            "marker": {
             "colorbar": {
              "outlinewidth": 0,
              "ticks": ""
             }
            },
            "type": "scatter3d"
           }
          ],
          "scattercarpet": [
           {
            "marker": {
             "colorbar": {
              "outlinewidth": 0,
              "ticks": ""
             }
            },
            "type": "scattercarpet"
           }
          ],
          "scattergeo": [
           {
            "marker": {
             "colorbar": {
              "outlinewidth": 0,
              "ticks": ""
             }
            },
            "type": "scattergeo"
           }
          ],
          "scattergl": [
           {
            "marker": {
             "colorbar": {
              "outlinewidth": 0,
              "ticks": ""
             }
            },
            "type": "scattergl"
           }
          ],
          "scattermapbox": [
           {
            "marker": {
             "colorbar": {
              "outlinewidth": 0,
              "ticks": ""
             }
            },
            "type": "scattermapbox"
           }
          ],
          "scatterpolar": [
           {
            "marker": {
             "colorbar": {
              "outlinewidth": 0,
              "ticks": ""
             }
            },
            "type": "scatterpolar"
           }
          ],
          "scatterpolargl": [
           {
            "marker": {
             "colorbar": {
              "outlinewidth": 0,
              "ticks": ""
             }
            },
            "type": "scatterpolargl"
           }
          ],
          "scatterternary": [
           {
            "marker": {
             "colorbar": {
              "outlinewidth": 0,
              "ticks": ""
             }
            },
            "type": "scatterternary"
           }
          ],
          "surface": [
           {
            "colorbar": {
             "outlinewidth": 0,
             "ticks": ""
            },
            "colorscale": [
             [
              0,
              "#0d0887"
             ],
             [
              0.1111111111111111,
              "#46039f"
             ],
             [
              0.2222222222222222,
              "#7201a8"
             ],
             [
              0.3333333333333333,
              "#9c179e"
             ],
             [
              0.4444444444444444,
              "#bd3786"
             ],
             [
              0.5555555555555556,
              "#d8576b"
             ],
             [
              0.6666666666666666,
              "#ed7953"
             ],
             [
              0.7777777777777778,
              "#fb9f3a"
             ],
             [
              0.8888888888888888,
              "#fdca26"
             ],
             [
              1,
              "#f0f921"
             ]
            ],
            "type": "surface"
           }
          ],
          "table": [
           {
            "cells": {
             "fill": {
              "color": "#EBF0F8"
             },
             "line": {
              "color": "white"
             }
            },
            "header": {
             "fill": {
              "color": "#C8D4E3"
             },
             "line": {
              "color": "white"
             }
            },
            "type": "table"
           }
          ]
         },
         "layout": {
          "annotationdefaults": {
           "arrowcolor": "#2a3f5f",
           "arrowhead": 0,
           "arrowwidth": 1
          },
          "autotypenumbers": "strict",
          "coloraxis": {
           "colorbar": {
            "outlinewidth": 0,
            "ticks": ""
           }
          },
          "colorscale": {
           "diverging": [
            [
             0,
             "#8e0152"
            ],
            [
             0.1,
             "#c51b7d"
            ],
            [
             0.2,
             "#de77ae"
            ],
            [
             0.3,
             "#f1b6da"
            ],
            [
             0.4,
             "#fde0ef"
            ],
            [
             0.5,
             "#f7f7f7"
            ],
            [
             0.6,
             "#e6f5d0"
            ],
            [
             0.7,
             "#b8e186"
            ],
            [
             0.8,
             "#7fbc41"
            ],
            [
             0.9,
             "#4d9221"
            ],
            [
             1,
             "#276419"
            ]
           ],
           "sequential": [
            [
             0,
             "#0d0887"
            ],
            [
             0.1111111111111111,
             "#46039f"
            ],
            [
             0.2222222222222222,
             "#7201a8"
            ],
            [
             0.3333333333333333,
             "#9c179e"
            ],
            [
             0.4444444444444444,
             "#bd3786"
            ],
            [
             0.5555555555555556,
             "#d8576b"
            ],
            [
             0.6666666666666666,
             "#ed7953"
            ],
            [
             0.7777777777777778,
             "#fb9f3a"
            ],
            [
             0.8888888888888888,
             "#fdca26"
            ],
            [
             1,
             "#f0f921"
            ]
           ],
           "sequentialminus": [
            [
             0,
             "#0d0887"
            ],
            [
             0.1111111111111111,
             "#46039f"
            ],
            [
             0.2222222222222222,
             "#7201a8"
            ],
            [
             0.3333333333333333,
             "#9c179e"
            ],
            [
             0.4444444444444444,
             "#bd3786"
            ],
            [
             0.5555555555555556,
             "#d8576b"
            ],
            [
             0.6666666666666666,
             "#ed7953"
            ],
            [
             0.7777777777777778,
             "#fb9f3a"
            ],
            [
             0.8888888888888888,
             "#fdca26"
            ],
            [
             1,
             "#f0f921"
            ]
           ]
          },
          "colorway": [
           "#636efa",
           "#EF553B",
           "#00cc96",
           "#ab63fa",
           "#FFA15A",
           "#19d3f3",
           "#FF6692",
           "#B6E880",
           "#FF97FF",
           "#FECB52"
          ],
          "font": {
           "color": "#2a3f5f"
          },
          "geo": {
           "bgcolor": "white",
           "lakecolor": "white",
           "landcolor": "#E5ECF6",
           "showlakes": true,
           "showland": true,
           "subunitcolor": "white"
          },
          "hoverlabel": {
           "align": "left"
          },
          "hovermode": "closest",
          "mapbox": {
           "style": "light"
          },
          "paper_bgcolor": "white",
          "plot_bgcolor": "#E5ECF6",
          "polar": {
           "angularaxis": {
            "gridcolor": "white",
            "linecolor": "white",
            "ticks": ""
           },
           "bgcolor": "#E5ECF6",
           "radialaxis": {
            "gridcolor": "white",
            "linecolor": "white",
            "ticks": ""
           }
          },
          "scene": {
           "xaxis": {
            "backgroundcolor": "#E5ECF6",
            "gridcolor": "white",
            "gridwidth": 2,
            "linecolor": "white",
            "showbackground": true,
            "ticks": "",
            "zerolinecolor": "white"
           },
           "yaxis": {
            "backgroundcolor": "#E5ECF6",
            "gridcolor": "white",
            "gridwidth": 2,
            "linecolor": "white",
            "showbackground": true,
            "ticks": "",
            "zerolinecolor": "white"
           },
           "zaxis": {
            "backgroundcolor": "#E5ECF6",
            "gridcolor": "white",
            "gridwidth": 2,
            "linecolor": "white",
            "showbackground": true,
            "ticks": "",
            "zerolinecolor": "white"
           }
          },
          "shapedefaults": {
           "line": {
            "color": "#2a3f5f"
           }
          },
          "ternary": {
           "aaxis": {
            "gridcolor": "white",
            "linecolor": "white",
            "ticks": ""
           },
           "baxis": {
            "gridcolor": "white",
            "linecolor": "white",
            "ticks": ""
           },
           "bgcolor": "#E5ECF6",
           "caxis": {
            "gridcolor": "white",
            "linecolor": "white",
            "ticks": ""
           }
          },
          "title": {
           "x": 0.05
          },
          "xaxis": {
           "automargin": true,
           "gridcolor": "white",
           "linecolor": "white",
           "ticks": "",
           "title": {
            "standoff": 15
           },
           "zerolinecolor": "white",
           "zerolinewidth": 2
          },
          "yaxis": {
           "automargin": true,
           "gridcolor": "white",
           "linecolor": "white",
           "ticks": "",
           "title": {
            "standoff": 15
           },
           "zerolinecolor": "white",
           "zerolinewidth": 2
          }
         }
        },
        "title": {
         "text": "Monte Carlo Simulation: Pressure vs Efficiency"
        },
        "xaxis": {
         "title": {
          "text": "Pressure (bar)"
         }
        },
        "yaxis": {
         "title": {
          "text": "Efficiency (%)"
         }
        }
       }
      }
     },
     "metadata": {},
     "output_type": "display_data"
    }
   ],
   "source": [
    "print(f\"Max efficiency: {max_efficiency * 100:.2f} %\")\n",
    "print(\n",
    "    f\"Vapor inlet pressure for max efficiency: {pascal_to_bar(optimal_inlet_pressure):.2f} bar\"\n",
    ")\n",
    "\n",
    "fig = go.Figure(\n",
    "    data=go.Scatter(\n",
    "        x=pascal_to_bar(pressures),\n",
    "        y=system_efficiencies * 100,\n",
    "        mode=\"markers\",\n",
    "    )\n",
    ")\n",
    "fig.update_layout(\n",
    "    title=\"Monte Carlo Simulation: Pressure vs Efficiency\",\n",
    "    xaxis_title=\"Pressure (bar)\",\n",
    "    yaxis_title=\"Efficiency (%)\",\n",
    ")\n",
    "fig.show()"
   ]
  }
 ],
 "metadata": {
  "kernelspec": {
   "display_name": "Python 3",
   "language": "python",
   "name": "python3"
  },
  "language_info": {
   "codemirror_mode": {
    "name": "ipython",
    "version": 3
   },
   "file_extension": ".py",
   "mimetype": "text/x-python",
   "name": "python",
   "nbconvert_exporter": "python",
   "pygments_lexer": "ipython3",
   "version": "3.11.6"
  }
 },
 "nbformat": 4,
 "nbformat_minor": 2
}
